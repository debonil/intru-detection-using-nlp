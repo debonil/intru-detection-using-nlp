{
  "cells": [
    {
      "cell_type": "code",
      "execution_count": 18,
      "metadata": {
        "id": "rm09UPcjR9-g"
      },
      "outputs": [],
      "source": [
        "from sklearn.tree import DecisionTreeClassifier\n",
        "from sklearn.ensemble import RandomForestClassifier, BaggingClassifier, AdaBoostClassifier, GradientBoostingClassifier, StackingClassifier\n",
        "from sklearn.svm import SVC\n",
        "from sklearn.neural_network import MLPClassifier\n",
        "from sklearn.naive_bayes import MultinomialNB\n",
        "from sklearn.linear_model import LogisticRegression\n",
        "from sklearn.metrics import accuracy_score, classification_report,roc_auc_score,auc,f1_score\n",
        "from sklearn.pipeline import make_pipeline\n",
        "from sklearn.preprocessing import StandardScaler\n",
        "import pandas as pd\n",
        "import nltk\n",
        "from sklearn.model_selection import train_test_split\n",
        "from sklearn.feature_extraction.text import CountVectorizer\n",
        "import numpy as np\n",
        "\n",
        "# Read the training CSV file containing normal traffic data\n",
        "df_normal_train = pd.read_csv('../data/processed/train_normal.csv')\n",
        "\n",
        "# Read the testing CSV file containing abnormal traffic data\n",
        "df_test_abnormal = pd.read_csv('../data/processed/test_abnormal.csv')\n",
        "\n",
        "# Read the testing CSV file containing normal traffic data\n",
        "df_test_normal = pd.read_csv('../data/processed/test_normal.csv')\n"
      ]
    },
    {
      "cell_type": "code",
      "execution_count": 19,
      "metadata": {
        "colab": {
          "base_uri": "https://localhost:8080/",
          "height": 143
        },
        "id": "9jvebdEKSBj6",
        "outputId": "8fe90c76-8ada-47aa-b729-620f43a4fed4"
      },
      "outputs": [
        {
          "data": {
            "text/html": [
              "\n",
              "  <div id=\"df-b4d025a5-e67c-441c-8f90-70bd9132e15d\">\n",
              "    <div class=\"colab-df-container\">\n",
              "      <div>\n",
              "<style scoped>\n",
              "    .dataframe tbody tr th:only-of-type {\n",
              "        vertical-align: middle;\n",
              "    }\n",
              "\n",
              "    .dataframe tbody tr th {\n",
              "        vertical-align: top;\n",
              "    }\n",
              "\n",
              "    .dataframe thead th {\n",
              "        text-align: right;\n",
              "    }\n",
              "</style>\n",
              "<table border=\"1\" class=\"dataframe\">\n",
              "  <thead>\n",
              "    <tr style=\"text-align: right;\">\n",
              "      <th></th>\n",
              "      <th>request</th>\n",
              "    </tr>\n",
              "    <tr>\n",
              "      <th>label</th>\n",
              "      <th></th>\n",
              "    </tr>\n",
              "  </thead>\n",
              "  <tbody>\n",
              "    <tr>\n",
              "      <th>0</th>\n",
              "      <td>32000</td>\n",
              "    </tr>\n",
              "    <tr>\n",
              "      <th>1</th>\n",
              "      <td>10612</td>\n",
              "    </tr>\n",
              "  </tbody>\n",
              "</table>\n",
              "</div>\n",
              "      <button class=\"colab-df-convert\" onclick=\"convertToInteractive('df-b4d025a5-e67c-441c-8f90-70bd9132e15d')\"\n",
              "              title=\"Convert this dataframe to an interactive table.\"\n",
              "              style=\"display:none;\">\n",
              "        \n",
              "  <svg xmlns=\"http://www.w3.org/2000/svg\" height=\"24px\"viewBox=\"0 0 24 24\"\n",
              "       width=\"24px\">\n",
              "    <path d=\"M0 0h24v24H0V0z\" fill=\"none\"/>\n",
              "    <path d=\"M18.56 5.44l.94 2.06.94-2.06 2.06-.94-2.06-.94-.94-2.06-.94 2.06-2.06.94zm-11 1L8.5 8.5l.94-2.06 2.06-.94-2.06-.94L8.5 2.5l-.94 2.06-2.06.94zm10 10l.94 2.06.94-2.06 2.06-.94-2.06-.94-.94-2.06-.94 2.06-2.06.94z\"/><path d=\"M17.41 7.96l-1.37-1.37c-.4-.4-.92-.59-1.43-.59-.52 0-1.04.2-1.43.59L10.3 9.45l-7.72 7.72c-.78.78-.78 2.05 0 2.83L4 21.41c.39.39.9.59 1.41.59.51 0 1.02-.2 1.41-.59l7.78-7.78 2.81-2.81c.8-.78.8-2.07 0-2.86zM5.41 20L4 18.59l7.72-7.72 1.47 1.35L5.41 20z\"/>\n",
              "  </svg>\n",
              "      </button>\n",
              "      \n",
              "  <style>\n",
              "    .colab-df-container {\n",
              "      display:flex;\n",
              "      flex-wrap:wrap;\n",
              "      gap: 12px;\n",
              "    }\n",
              "\n",
              "    .colab-df-convert {\n",
              "      background-color: #E8F0FE;\n",
              "      border: none;\n",
              "      border-radius: 50%;\n",
              "      cursor: pointer;\n",
              "      display: none;\n",
              "      fill: #1967D2;\n",
              "      height: 32px;\n",
              "      padding: 0 0 0 0;\n",
              "      width: 32px;\n",
              "    }\n",
              "\n",
              "    .colab-df-convert:hover {\n",
              "      background-color: #E2EBFA;\n",
              "      box-shadow: 0px 1px 2px rgba(60, 64, 67, 0.3), 0px 1px 3px 1px rgba(60, 64, 67, 0.15);\n",
              "      fill: #174EA6;\n",
              "    }\n",
              "\n",
              "    [theme=dark] .colab-df-convert {\n",
              "      background-color: #3B4455;\n",
              "      fill: #D2E3FC;\n",
              "    }\n",
              "\n",
              "    [theme=dark] .colab-df-convert:hover {\n",
              "      background-color: #434B5C;\n",
              "      box-shadow: 0px 1px 3px 1px rgba(0, 0, 0, 0.15);\n",
              "      filter: drop-shadow(0px 1px 2px rgba(0, 0, 0, 0.3));\n",
              "      fill: #FFFFFF;\n",
              "    }\n",
              "  </style>\n",
              "\n",
              "      <script>\n",
              "        const buttonEl =\n",
              "          document.querySelector('#df-b4d025a5-e67c-441c-8f90-70bd9132e15d button.colab-df-convert');\n",
              "        buttonEl.style.display =\n",
              "          google.colab.kernel.accessAllowed ? 'block' : 'none';\n",
              "\n",
              "        async function convertToInteractive(key) {\n",
              "          const element = document.querySelector('#df-b4d025a5-e67c-441c-8f90-70bd9132e15d');\n",
              "          const dataTable =\n",
              "            await google.colab.kernel.invokeFunction('convertToInteractive',\n",
              "                                                     [key], {});\n",
              "          if (!dataTable) return;\n",
              "\n",
              "          const docLinkHtml = 'Like what you see? Visit the ' +\n",
              "            '<a target=\"_blank\" href=https://colab.research.google.com/notebooks/data_table.ipynb>data table notebook</a>'\n",
              "            + ' to learn more about interactive tables.';\n",
              "          element.innerHTML = '';\n",
              "          dataTable['output_type'] = 'display_data';\n",
              "          await google.colab.output.renderOutput(dataTable, element);\n",
              "          const docLink = document.createElement('div');\n",
              "          docLink.innerHTML = docLinkHtml;\n",
              "          element.appendChild(docLink);\n",
              "        }\n",
              "      </script>\n",
              "    </div>\n",
              "  </div>\n",
              "  "
            ],
            "text/plain": [
              "       request\n",
              "label         \n",
              "0        32000\n",
              "1        10612"
            ]
          },
          "execution_count": 19,
          "metadata": {},
          "output_type": "execute_result"
        }
      ],
      "source": [
        "\n",
        "\n",
        "df_concat = pd.concat([df_normal_train, df_test_abnormal, df_test_normal])\n",
        "\n",
        "# Shuffle the concatenated dataframe\n",
        "df_shuffled = df_concat.sample(frac=1, random_state=42)\n",
        "\n",
        "df_shuffled.groupby(\"label\").count()\n"
      ]
    },
    {
      "cell_type": "code",
      "execution_count": 20,
      "metadata": {
        "colab": {
          "base_uri": "https://localhost:8080/"
        },
        "id": "sqaVinDzSGyn",
        "outputId": "36f66f7d-f966-4133-b87b-9bdc6efb7c63"
      },
      "outputs": [
        {
          "name": "stdout",
          "output_type": "stream",
          "text": [
            "(42612, 2000)\n"
          ]
        }
      ],
      "source": [
        "vectorizer = CountVectorizer(max_features=2000)\n",
        "vectorizer.fit(df_shuffled['request'])\n",
        "dictionary = vectorizer.vocabulary_\n",
        "\n",
        "# Convert HTTP requests to feature vectors\n",
        "x_train_normal = vectorizer.transform(df_shuffled['request']).toarray()\n",
        "y_train_normal = df_shuffled['label']\n",
        "\n",
        "print(x_train_normal.shape)\n"
      ]
    },
    {
      "cell_type": "code",
      "execution_count": 21,
      "metadata": {
        "id": "Y0OfRh3OSI0N"
      },
      "outputs": [],
      "source": [
        "# Split the shuffled dataset into training and testing sets\n",
        "\n",
        "\n",
        "x_train, x_test, y_train, y_test = train_test_split(\n",
        "    x_train_normal, y_train_normal, test_size=0.2, random_state=42)\n",
        "\n",
        "\n"
      ]
    },
    {
      "cell_type": "code",
      "execution_count": 22,
      "metadata": {
        "id": "6KTZV6ARxhM5"
      },
      "outputs": [],
      "source": [
        "\n",
        "models = {\"Decision Tree\": DecisionTreeClassifier(random_state=42),\n",
        "          \"Random Forest\": RandomForestClassifier(random_state=42),\n",
        "          \"Ensmb Decision Tree\": BaggingClassifier(estimator=DecisionTreeClassifier(random_state=42), n_estimators=5),\n",
        "          \"Ensmb Random Forest\": BaggingClassifier(estimator=RandomForestClassifier(random_state=42), n_estimators=5),\n",
        "          \"Naive Bayes\": MultinomialNB(),\n",
        "          \"Neural Net\": MLPClassifier(hidden_layer_sizes=[2048, 1024]),\n",
        "          \"Ensmb Naive Bayes\": BaggingClassifier(estimator=MultinomialNB(), n_estimators=5),\n",
        "          \"Ensmb Neural Net\": BaggingClassifier(estimator= MLPClassifier(hidden_layer_sizes=[2048, 1024]), n_estimators=5),\n",
        "          \"Logistic Regression\": make_pipeline(StandardScaler(), LogisticRegression()),\n",
        "          \"Ensmb Logistic Regression\": BaggingClassifier(estimator= make_pipeline(StandardScaler(), LogisticRegression()), n_estimators=5),\n",
        "          \"Support Vector Machine\": SVC(),\n",
        "          \"Ensmb SVM\": BaggingClassifier(estimator=SVC(), n_estimators=5),\n",
        "          }"
      ]
    },
    {
      "cell_type": "code",
      "execution_count": null,
      "metadata": {
        "colab": {
          "base_uri": "https://localhost:8080/"
        },
        "id": "0Z6exM4dSMIc",
        "outputId": "2ceb225e-8534-4620-8393-c1dbe2e0b63e"
      },
      "outputs": [
        {
          "name": "stdout",
          "output_type": "stream",
          "text": [
            "Decision Tree accuracy on abnormal traffic data: 0.9991786929484923\n",
            "Decision Tree F1 on normal traffic data: 0.9983112183353438\n",
            "Decision Tree roc_auc on normal traffic data: 0.9983140655105973\n",
            "Random Forest accuracy on abnormal traffic data: 0.9991786929484923\n",
            "Random Forest F1 on normal traffic data: 0.9983112183353438\n",
            "Random Forest roc_auc on normal traffic data: 0.9983140655105973\n",
            "Ensmb Decision Tree accuracy on abnormal traffic data: 0.9989440337909187\n",
            "Ensmb Decision Tree F1 on normal traffic data: 0.9978287092882993\n",
            "Ensmb Decision Tree roc_auc on normal traffic data: 0.9979956622742486\n",
            "Ensmb Random Forest accuracy on abnormal traffic data: 0.9991786929484923\n",
            "Ensmb Random Forest F1 on normal traffic data: 0.9983112183353438\n",
            "Ensmb Random Forest roc_auc on normal traffic data: 0.9983140655105973\n",
            "Naive Bayes accuracy on abnormal traffic data: 0.9601079432124838\n",
            "Naive Bayes F1 on normal traffic data: 0.9110413396127682\n",
            "Naive Bayes roc_auc on normal traffic data: 0.9189282150321294\n"
          ]
        }
      ],
      "source": [
        "import time\n",
        "results = []\n",
        "results_df = []\n",
        "\n",
        "for name, model in models.items():\n",
        "    start = time.time()\n",
        "    model.fit(x_train, y_train)\n",
        "    y_pred = model.predict(x_test)\n",
        "    accuracy = accuracy_score(y_test, y_pred)\n",
        "    f1 = f1_score(y_test, y_pred)\n",
        "    roc_auc = roc_auc_score(y_test, y_pred)\n",
        "    print(f\"{name} accuracy on abnormal traffic data: {accuracy}\")\n",
        "    print(f\"{name} F1 on normal traffic data: {f1}\")\n",
        "    print(f\"{name} roc_auc on normal traffic data: {roc_auc}\")\n",
        "    results.append({\n",
        "        \"model\":name,\n",
        "        \"accuracy\":accuracy,\n",
        "        \"f1_score\":f1,\n",
        "        \"roc_auc\":roc_auc,\n",
        "        \"time\":(time.time()-start)/1000,\n",
        "    })\n",
        "    results_df=pd.DataFrame(results)\n",
        "    results_df.to_csv('final_result.csv', index=False)\n",
        "  "
      ]
    },
    {
      "cell_type": "code",
      "execution_count": null,
      "metadata": {
        "id": "YO1DaiEgw-gF"
      },
      "outputs": [],
      "source": [
        "results_df"
      ]
    }
  ],
  "metadata": {
    "colab": {
      "provenance": []
    },
    "kernelspec": {
      "display_name": "Python 3",
      "language": "python",
      "name": "python3"
    },
    "language_info": {
      "codemirror_mode": {
        "name": "ipython",
        "version": 3
      },
      "file_extension": ".py",
      "mimetype": "text/x-python",
      "name": "python",
      "nbconvert_exporter": "python",
      "pygments_lexer": "ipython3",
      "version": "3.10.7"
    }
  },
  "nbformat": 4,
  "nbformat_minor": 0
}
