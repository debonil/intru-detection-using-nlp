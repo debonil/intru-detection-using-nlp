{
 "cells": [
  {
   "cell_type": "code",
   "execution_count": 40,
   "metadata": {},
   "outputs": [],
   "source": [
    "import pandas as pd\n",
    "from sklearn.model_selection import train_test_split\n",
    "from sklearn.feature_extraction.text import CountVectorizer, TfidfVectorizer\n",
    "from sklearn.tree import DecisionTreeClassifier\n",
    "from sklearn.naive_bayes import MultinomialNB\n",
    "from sklearn.metrics import accuracy_score\n",
    "import matplotlib.pyplot as plt\n",
    "import numpy as np"
   ]
  },
  {
   "cell_type": "code",
   "execution_count": 41,
   "metadata": {},
   "outputs": [],
   "source": [
    "#filename = 'normalTrafficTest.txt'\n",
    "#filename = 'anomalousTrafficTest.txt' \n",
    "#filename = 'normalTrafficTraining.txt'"
   ]
  },
  {
   "cell_type": "code",
   "execution_count": 42,
   "metadata": {},
   "outputs": [
    {
     "name": "stderr",
     "output_type": "stream",
     "text": [
      "C:\\Users\\debon\\AppData\\Local\\Temp\\ipykernel_8260\\3741842360.py:1: ParserWarning: Falling back to the 'python' engine because the 'c' engine does not support regex separators (separators > 1 char and different from '\\s+' are interpreted as regex); you can avoid this warning by specifying engine='python'.\n",
      "  data = pd.read_csv('../data/'+filename,sep='\\n\\n',header=None,names=['sentence'],)\n"
     ]
    },
    {
     "name": "stdout",
     "output_type": "stream",
     "text": [
      "                                                 sentence\n",
      "0       GET http://localhost:8080/tienda1/index.jsp HT...\n",
      "1       User-Agent: Mozilla/5.0 (compatible; Konqueror...\n",
      "2                                        Pragma: no-cache\n",
      "3                                 Cache-control: no-cache\n",
      "4       Accept: text/xml,application/xml,application/x...\n",
      "...                                                   ...\n",
      "419995        Accept-Charset: utf-8, utf-8;q=0.5, *;q=0.5\n",
      "419996                                Accept-Language: en\n",
      "419997                               Host: localhost:8080\n",
      "419998  Cookie: JSESSIONID=A70DD1BA160B294CB5E1C2D8FAE...\n",
      "419999                                  Connection: close\n",
      "\n",
      "[420000 rows x 1 columns]\n"
     ]
    }
   ],
   "source": [
    "data = pd.read_csv('../data/'+filename,sep='\\n\\n',header=None,names=['sentence'],)\n",
    "\n",
    "print(data)"
   ]
  },
  {
   "cell_type": "code",
   "execution_count": 43,
   "metadata": {},
   "outputs": [
    {
     "data": {
      "text/plain": [
       "sentence                                                                                                   \n",
       "Accept-Charset: utf-8, utf-8;q=0.5, *;q=0.5                                                                    36000\n",
       "User-Agent: Mozilla/5.0 (compatible; Konqueror/3.5; Linux) KHTML/3.5.8 (like Gecko)                            36000\n",
       "Accept-Language: en                                                                                            36000\n",
       "Accept: text/xml,application/xml,application/xhtml+xml,text/html;q=0.9,text/plain;q=0.8,image/png,*/*;q=0.5    36000\n",
       "Cache-control: no-cache                                                                                        36000\n",
       "Connection: close                                                                                              36000\n",
       "Host: localhost:8080                                                                                           36000\n",
       "Accept-Encoding: x-gzip, x-deflate, gzip, deflate                                                              36000\n",
       "Pragma: no-cache                                                                                               36000\n",
       "Content-Type: application/x-www-form-urlencoded                                                                 8000\n",
       "POST http://localhost:8080/tienda1/publico/caracteristicas.jsp HTTP/1.1                                         1000\n",
       "POST http://localhost:8080/tienda1/publico/entrar.jsp HTTP/1.1                                                  1000\n",
       "POST http://localhost:8080/tienda1/publico/pagar.jsp HTTP/1.1                                                   1000\n",
       "POST http://localhost:8080/tienda1/publico/registro.jsp HTTP/1.1                                                1000\n",
       "POST http://localhost:8080/tienda1/publico/vaciar.jsp HTTP/1.1                                                  1000\n",
       "GET http://localhost:8080/tienda1/miembros/salir.jsp HTTP/1.1                                                   1000\n",
       "errorMsg=Credenciales+incorrectas                                                                               1000\n",
       "GET http://localhost:8080/tienda1/publico/productos.jsp HTTP/1.1                                                1000\n",
       "POST http://localhost:8080/tienda1/publico/anadir.jsp HTTP/1.1                                                  1000\n",
       "GET http://localhost:8080/tienda1/miembros/index.jsp HTTP/1.1                                                   1000\n",
       "dtype: int64"
      ]
     },
     "execution_count": 43,
     "metadata": {},
     "output_type": "execute_result"
    }
   ],
   "source": [
    "data.value_counts().head(20)"
   ]
  },
  {
   "cell_type": "code",
   "execution_count": 44,
   "metadata": {},
   "outputs": [
    {
     "name": "stdout",
     "output_type": "stream",
     "text": [
      "['Accept-Charset', 'User-Agent', 'Accept-Language', 'Accept', 'Cache-control', 'Connection', 'Host', 'Accept-Encoding', 'Pragma', 'Content-Type']\n"
     ]
    }
   ],
   "source": [
    "top_10_freq_sent = [x[0] for x in data.value_counts().head(10).index.tolist()]\n",
    "print([x[:x.index(':')] for x in top_10_freq_sent])"
   ]
  },
  {
   "cell_type": "code",
   "execution_count": 45,
   "metadata": {},
   "outputs": [],
   "source": [
    "sent_to_remv = ['POST http','PUT http','Cookie: ','Content-Length: ','Accept-Charset', 'User-Agent', 'Accept-Language', 'Accept', 'Cache-control', 'Connection', 'Host', 'Accept-Encoding', 'Pragma', 'Content-Type']\n",
    "\n",
    "for freq_item in sent_to_remv:\n",
    "    data = data.drop(data[data['sentence'].str.startswith(freq_item)].index)"
   ]
  },
  {
   "cell_type": "code",
   "execution_count": 46,
   "metadata": {},
   "outputs": [
    {
     "name": "stdout",
     "output_type": "stream",
     "text": [
      "sentence                                                                                                                                 \n",
      "B2=Vaciar+carrito                                                                                                                            1000\n",
      "errorMsg=Credenciales+incorrectas                                                                                                            1000\n",
      "GET http://localhost:8080/tienda1/miembros/imagenes/ogono.jpg HTTP/1.1                                                                       1000\n",
      "GET http://localhost:8080/tienda1/miembros/imagenes/zarauz.jpg HTTP/1.1                                                                      1000\n",
      "GET http://localhost:8080/tienda1/miembros/index.jsp HTTP/1.1                                                                                1000\n",
      "GET http://localhost:8080/tienda1/miembros/salir.jsp HTTP/1.1                                                                                1000\n",
      "GET http://localhost:8080/tienda1/publico/carrito.jsp HTTP/1.1                                                                               1000\n",
      "GET http://localhost:8080/tienda1/publico/entrar.jsp?errorMsg=Credenciales+incorrectas HTTP/1.1                                              1000\n",
      "GET http://localhost:8080/tienda1/publico/miembros.jsp HTTP/1.1                                                                              1000\n",
      "GET http://localhost:8080/tienda1/miembros/fotos.jsp HTTP/1.1                                                                                1000\n",
      "GET http://localhost:8080/tienda1/publico/productos.jsp HTTP/1.1                                                                             1000\n",
      "GET http://localhost:8080/tienda1/global/creditos.jsp HTTP/1.1                                                                               1000\n",
      "GET http://localhost:8080/tienda1/publico/vaciar.jsp?B2=Vaciar+carrito HTTP/1.1                                                              1000\n",
      "GET http://localhost:8080/tienda1/miembros/imagenes/castro.jpg HTTP/1.1                                                                      1000\n",
      "GET http://localhost:8080/tienda1/imagenes/2.gif HTTP/1.1                                                                                    1000\n",
      "GET http://localhost:8080/tienda1/imagenes/1.gif HTTP/1.1                                                                                    1000\n",
      "GET http://localhost:8080/tienda1/imagenes/3.gif HTTP/1.1                                                                                    1000\n",
      "GET http://localhost:8080/tienda1/index.jsp HTTP/1.1                                                                                         1000\n",
      "GET http://localhost:8080/tienda1/imagenes/nuestratierra.jpg HTTP/1.1                                                                        1000\n",
      "GET http://localhost:8080/tienda1/imagenes/logo.gif HTTP/1.1                                                                                 1000\n",
      "GET http://localhost:8080/tienda1/imagenes/cmenbul.gif HTTP/1.1                                                                              1000\n",
      "GET http://localhost:8080/tienda1/global/titulo.jsp HTTP/1.1                                                                                 1000\n",
      "GET http://localhost:8080/tienda1/global/estilos.css HTTP/1.1                                                                                1000\n",
      "GET http://localhost:8080/tienda1/global/menum.jsp HTTP/1.1                                                                                  1000\n",
      "id=2                                                                                                                                          507\n",
      "GET http://localhost:8080/tienda1/publico/caracteristicas.jsp?id=2 HTTP/1.1                                                                   507\n",
      "GET http://localhost:8080/tienda1/publico/caracteristicas.jsp?id=1 HTTP/1.1                                                                   493\n",
      "id=1                                                                                                                                          493\n",
      "id=2&nombre=Jam%F3n+Ib%E9rico&precio=100&cantidad=91&B1=A%F1adir+al+carrito                                                                     5\n",
      "GET http://localhost:8080/tienda1/publico/anadir.jsp?id=2&nombre=Jam%F3n+Ib%E9rico&precio=100&cantidad=91&B1=A%F1adir+al+carrito HTTP/1.1       5\n",
      "GET http://localhost:8080/tienda1/publico/anadir.jsp?id=3&nombre=Vino+Rioja&precio=100&cantidad=73&B1=A%F1adir+al+carrito HTTP/1.1              3\n",
      "GET http://localhost:8080/tienda1/publico/anadir.jsp?id=3&nombre=Vino+Rioja&precio=100&cantidad=76&B1=A%F1adir+al+carrito HTTP/1.1              3\n",
      "GET http://localhost:8080/tienda1/publico/anadir.jsp?id=2&nombre=Queso+Manchego&precio=39&cantidad=49&B1=A%F1adir+al+carrito HTTP/1.1           3\n",
      "id=2&nombre=Jam%F3n+Ib%E9rico&precio=39&cantidad=78&B1=A%F1adir+al+carrito                                                                      3\n",
      "GET http://localhost:8080/tienda1/publico/anadir.jsp?id=1&nombre=Vino+Rioja&precio=39&cantidad=47&B1=A%F1adir+al+carrito HTTP/1.1               3\n",
      "id=3&nombre=Vino+Rioja&precio=100&cantidad=73&B1=A%F1adir+al+carrito                                                                            3\n",
      "GET http://localhost:8080/tienda1/publico/anadir.jsp?id=1&nombre=Vino+Rioja&precio=85&cantidad=52&B1=A%F1adir+al+carrito HTTP/1.1               3\n",
      "id=3&nombre=Vino+Rioja&precio=100&cantidad=76&B1=A%F1adir+al+carrito                                                                            3\n",
      "GET http://localhost:8080/tienda1/publico/anadir.jsp?id=3&nombre=Jam%F3n+Ib%E9rico&precio=85&cantidad=12&B1=A%F1adir+al+carrito HTTP/1.1        3\n",
      "id=3&nombre=Jam%F3n+Ib%E9rico&precio=100&cantidad=84&B1=A%F1adir+al+carrito                                                                     3\n",
      "dtype: int64\n",
      "                                                 sentence\n",
      "count                                               36000\n",
      "unique                                               9622\n",
      "top     GET http://localhost:8080/tienda1/index.jsp HT...\n",
      "freq                                                 1000\n"
     ]
    }
   ],
   "source": [
    "print(data.value_counts().head(40))\n",
    "print(data.describe())"
   ]
  },
  {
   "cell_type": "code",
   "execution_count": 47,
   "metadata": {},
   "outputs": [],
   "source": [
    "from urllib.parse import unquote\n",
    "import re\n",
    "\n",
    "#REPLACE_BY_SPACE_RE = re.compile('[^0-9a-zA-Z _/(){}\\[\\]\\|@,;]')\n",
    "#REPLACE_BY_SPACE_RE = re.compile('[/(){}\\[\\]\\|@,;]')\n",
    "REPLACE_BY_SPACE_RE = re.compile('[&=+]')\n",
    "\n",
    "def extract_text(text):\n",
    "    if text.startswith('GET http'):\n",
    "        url = text.split()[1]\n",
    "        if '?' in url:\n",
    "            text = url[url.index('?')+1:].strip()\n",
    "        else:\n",
    "            text = ''\n",
    "    text = unquote(text) \n",
    "    \n",
    "    text = text.lower() \n",
    "    text = REPLACE_BY_SPACE_RE.sub(' ', text) \n",
    "    return text\n",
    "\n",
    "data['sentence'] =data['sentence'].apply(extract_text)"
   ]
  },
  {
   "cell_type": "code",
   "execution_count": 48,
   "metadata": {},
   "outputs": [
    {
     "data": {
      "text/html": [
       "<div>\n",
       "<style scoped>\n",
       "    .dataframe tbody tr th:only-of-type {\n",
       "        vertical-align: middle;\n",
       "    }\n",
       "\n",
       "    .dataframe tbody tr th {\n",
       "        vertical-align: top;\n",
       "    }\n",
       "\n",
       "    .dataframe thead th {\n",
       "        text-align: right;\n",
       "    }\n",
       "</style>\n",
       "<table border=\"1\" class=\"dataframe\">\n",
       "  <thead>\n",
       "    <tr style=\"text-align: right;\">\n",
       "      <th></th>\n",
       "      <th>sentence</th>\n",
       "    </tr>\n",
       "  </thead>\n",
       "  <tbody>\n",
       "    <tr>\n",
       "      <th>count</th>\n",
       "      <td>36000</td>\n",
       "    </tr>\n",
       "    <tr>\n",
       "      <th>unique</th>\n",
       "      <td>4802</td>\n",
       "    </tr>\n",
       "    <tr>\n",
       "      <th>top</th>\n",
       "      <td></td>\n",
       "    </tr>\n",
       "    <tr>\n",
       "      <th>freq</th>\n",
       "      <td>20000</td>\n",
       "    </tr>\n",
       "  </tbody>\n",
       "</table>\n",
       "</div>"
      ],
      "text/plain": [
       "       sentence\n",
       "count     36000\n",
       "unique     4802\n",
       "top            \n",
       "freq      20000"
      ]
     },
     "execution_count": 48,
     "metadata": {},
     "output_type": "execute_result"
    }
   ],
   "source": [
    "data.describe()"
   ]
  },
  {
   "cell_type": "code",
   "execution_count": 49,
   "metadata": {},
   "outputs": [],
   "source": [
    "data = data.drop(data[data['sentence'].str.strip(' \\t\\n\\r') ==''].index)"
   ]
  },
  {
   "cell_type": "code",
   "execution_count": 50,
   "metadata": {},
   "outputs": [],
   "source": [
    "data=data.reset_index().drop('index',axis=1)"
   ]
  },
  {
   "cell_type": "code",
   "execution_count": 51,
   "metadata": {},
   "outputs": [
    {
     "data": {
      "text/html": [
       "<div>\n",
       "<style scoped>\n",
       "    .dataframe tbody tr th:only-of-type {\n",
       "        vertical-align: middle;\n",
       "    }\n",
       "\n",
       "    .dataframe tbody tr th {\n",
       "        vertical-align: top;\n",
       "    }\n",
       "\n",
       "    .dataframe thead th {\n",
       "        text-align: right;\n",
       "    }\n",
       "</style>\n",
       "<table border=\"1\" class=\"dataframe\">\n",
       "  <thead>\n",
       "    <tr style=\"text-align: right;\">\n",
       "      <th></th>\n",
       "      <th>sentence</th>\n",
       "    </tr>\n",
       "  </thead>\n",
       "  <tbody>\n",
       "    <tr>\n",
       "      <th>count</th>\n",
       "      <td>16000</td>\n",
       "    </tr>\n",
       "    <tr>\n",
       "      <th>unique</th>\n",
       "      <td>4801</td>\n",
       "    </tr>\n",
       "    <tr>\n",
       "      <th>top</th>\n",
       "      <td>errormsg credenciales incorrectas</td>\n",
       "    </tr>\n",
       "    <tr>\n",
       "      <th>freq</th>\n",
       "      <td>2000</td>\n",
       "    </tr>\n",
       "  </tbody>\n",
       "</table>\n",
       "</div>"
      ],
      "text/plain": [
       "                                 sentence\n",
       "count                               16000\n",
       "unique                               4801\n",
       "top     errormsg credenciales incorrectas\n",
       "freq                                 2000"
      ]
     },
     "execution_count": 51,
     "metadata": {},
     "output_type": "execute_result"
    }
   ],
   "source": [
    "data.describe()"
   ]
  },
  {
   "cell_type": "code",
   "execution_count": 52,
   "metadata": {},
   "outputs": [],
   "source": [
    "data.to_csv('../data/processed/'+filename,index=None,header=None,)"
   ]
  }
 ],
 "metadata": {
  "kernelspec": {
   "display_name": "Python 3",
   "language": "python",
   "name": "python3"
  },
  "language_info": {
   "codemirror_mode": {
    "name": "ipython",
    "version": 3
   },
   "file_extension": ".py",
   "mimetype": "text/x-python",
   "name": "python",
   "nbconvert_exporter": "python",
   "pygments_lexer": "ipython3",
   "version": "3.10.7"
  },
  "orig_nbformat": 4
 },
 "nbformat": 4,
 "nbformat_minor": 2
}
