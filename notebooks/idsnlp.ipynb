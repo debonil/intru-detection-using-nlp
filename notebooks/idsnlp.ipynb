{
 "cells": [
  {
   "cell_type": "code",
   "execution_count": 31,
   "metadata": {},
   "outputs": [],
   "source": [
    "import pandas as pd\n",
    "from sklearn.model_selection import train_test_split\n",
    "from sklearn.feature_extraction.text import CountVectorizer, TfidfVectorizer\n",
    "from sklearn.tree import DecisionTreeClassifier\n",
    "from sklearn.naive_bayes import MultinomialNB\n",
    "from sklearn.metrics import accuracy_score\n",
    "import matplotlib.pyplot as plt\n",
    "import numpy as np"
   ]
  },
  {
   "cell_type": "code",
   "execution_count": 32,
   "metadata": {},
   "outputs": [],
   "source": [
    "filename = 'anomalousTrafficTest.txt' #'normalTrafficTest.txt'"
   ]
  },
  {
   "cell_type": "code",
   "execution_count": 33,
   "metadata": {},
   "outputs": [
    {
     "name": "stderr",
     "output_type": "stream",
     "text": [
      "C:\\Users\\debon\\AppData\\Local\\Temp\\ipykernel_19252\\3741842360.py:1: ParserWarning: Falling back to the 'python' engine because the 'c' engine does not support regex separators (separators > 1 char and different from '\\s+' are interpreted as regex); you can avoid this warning by specifying engine='python'.\n",
      "  data = pd.read_csv('../data/'+filename,sep='\\n\\n',header=None,names=['sentence'],)\n"
     ]
    },
    {
     "name": "stdout",
     "output_type": "stream",
     "text": [
      "                                                 sentence\n",
      "0       GET http://localhost:8080/tienda1/publico/anad...\n",
      "1       User-Agent: Mozilla/5.0 (compatible; Konqueror...\n",
      "2                                        Pragma: no-cache\n",
      "3                                 Cache-control: no-cache\n",
      "4       Accept: text/xml,application/xml,application/x...\n",
      "...                                                   ...\n",
      "305641        Accept-Charset: utf-8, utf-8;q=0.5, *;q=0.5\n",
      "305642                                Accept-Language: en\n",
      "305643                               Host: localhost:8080\n",
      "305644  Cookie: JSESSIONID=3CC12010CDA952F123240EBAD79...\n",
      "305645                                  Connection: close\n",
      "\n",
      "[305646 rows x 1 columns]\n"
     ]
    }
   ],
   "source": [
    "data = pd.read_csv('../data/'+filename,sep='\\n\\n',header=None,names=['sentence'],)\n",
    "\n",
    "print(data)"
   ]
  },
  {
   "cell_type": "code",
   "execution_count": 34,
   "metadata": {},
   "outputs": [
    {
     "data": {
      "text/plain": [
       "sentence                                                                                                   \n",
       "Accept-Charset: utf-8, utf-8;q=0.5, *;q=0.5                                                                    25065\n",
       "Cache-control: no-cache                                                                                        25065\n",
       "User-Agent: Mozilla/5.0 (compatible; Konqueror/3.5; Linux) KHTML/3.5.8 (like Gecko)                            25065\n",
       "Pragma: no-cache                                                                                               25065\n",
       "Connection: close                                                                                              25065\n",
       "Accept-Encoding: x-gzip, x-deflate, gzip, deflate                                                              25065\n",
       "Accept-Language: en                                                                                            25065\n",
       "Accept: text/xml,application/xml,application/xhtml+xml,text/html;q=0.9,text/plain;q=0.8,image/png,*/*;q=0.5    24668\n",
       "Host: localhost:8080                                                                                           24668\n",
       "Content-Type: application/x-www-form-urlencoded                                                                 9977\n",
       "POST http://localhost:8080/tienda1/publico/anadir.jsp HTTP/1.1                                                  1380\n",
       "POST http://localhost:8080/tienda1/publico/registro.jsp HTTP/1.1                                                1364\n",
       "POST http://localhost:8080/tienda1/miembros/editar.jsp HTTP/1.1                                                 1362\n",
       "POST http://localhost:8080/tienda1/publico/autenticar.jsp HTTP/1.1                                              1361\n",
       "POST http://localhost:8080/tienda1/publico/pagar.jsp HTTP/1.1                                                   1343\n",
       "POST http://localhost:8080/tienda1/publico/caracteristicas.jsp HTTP/1.1                                          954\n",
       "POST http://localhost:8080/tienda1/publico/vaciar.jsp HTTP/1.1                                                   919\n",
       "POST http://localhost:8080/tienda1/publico/entrar.jsp HTTP/1.1                                                   897\n",
       "Content-Length: 34                                                                                               460\n",
       "Content-Length: 5                                                                                                458\n",
       "dtype: int64"
      ]
     },
     "execution_count": 34,
     "metadata": {},
     "output_type": "execute_result"
    }
   ],
   "source": [
    "data.value_counts().head(20)"
   ]
  },
  {
   "cell_type": "code",
   "execution_count": 35,
   "metadata": {},
   "outputs": [
    {
     "name": "stdout",
     "output_type": "stream",
     "text": [
      "['Accept-Charset', 'Cache-control', 'User-Agent', 'Pragma', 'Connection', 'Accept-Encoding', 'Accept-Language', 'Accept', 'Host', 'Content-Type']\n"
     ]
    }
   ],
   "source": [
    "top_10_freq_sent = [x[0] for x in data.value_counts().head(10).index.tolist()]\n",
    "print([x[:x.index(':')] for x in top_10_freq_sent])"
   ]
  },
  {
   "cell_type": "code",
   "execution_count": 36,
   "metadata": {},
   "outputs": [],
   "source": [
    "sent_to_remv = ['Cookie: ','Content-Length: ','POST http','Accept-Charset', 'User-Agent', 'Accept-Language', 'Accept', 'Cache-control', 'Connection', 'Host', 'Accept-Encoding', 'Pragma', 'Content-Type']\n",
    "\n",
    "for freq_item in sent_to_remv:\n",
    "    data = data.drop(data[data['sentence'].str.startswith(freq_item)].index)"
   ]
  },
  {
   "cell_type": "code",
   "execution_count": 37,
   "metadata": {},
   "outputs": [
    {
     "name": "stdout",
     "output_type": "stream",
     "text": [
      "sentence                                                                                        \n",
      "B2A=Vaciar+carrito                                                                                  451\n",
      "GET http://localhost:8080/tienda1/publico/vaciar.jsp?B2A=Vaciar+carrito HTTP/1.1                    451\n",
      "GET http://localhost:8080/tienda1/publico/entrar.jsp?errorMsgA=Credenciales+incorrectas HTTP/1.1    444\n",
      "errorMsgA=Credenciales+incorrectas                                                                  444\n",
      "idA=1                                                                                               229\n",
      "GET http://localhost:8080/tienda1/publico/caracteristicas.jsp?idA=1 HTTP/1.1                        229\n",
      "idA=2                                                                                               222\n",
      "GET http://localhost:8080/tienda1/publico/caracteristicas.jsp?idA=2 HTTP/1.1                        222\n",
      "PUT http://localhost:8080/tienda1/publico/anadir.jsp HTTP/1.1                                        61\n",
      "PUT http://localhost:8080/tienda1/publico/autenticar.jsp HTTP/1.1                                    61\n",
      "PUT http://localhost:8080/tienda1/publico/registro.jsp HTTP/1.1                                      53\n",
      "GET http://localhost:8080/tienda1/asf-logo-wide.gif HTTP/1.1                                         51\n",
      "PUT http://localhost:8080/tienda1/miembros/editar.jsp HTTP/1.1                                       50\n",
      "GET http://localhost:8080/tienda1/asf-logo-wide.gif/ HTTP/1.1                                        49\n",
      "PUT http://localhost:8080/tienda1/publico/caracteristicas.jsp HTTP/1.1                               49\n",
      "GET http://localhost:8080/tienda1/6909030637832563290.jsp HTTP/1.1                                   47\n",
      "PUT http://localhost:8080/tienda1/publico/vaciar.jsp HTTP/1.1                                        46\n",
      "B2=Vaciar+carrito                                                                                    46\n",
      "GET http://localhost:8080/tienda1/asf-logo-wide HTTP/1.1                                             46\n",
      "PUT http://localhost:8080/tienda1/publico/entrar.jsp HTTP/1.1                                        41\n",
      "errorMsg=Credenciales+incorrectas                                                                    41\n",
      "GET http://localhost:8080/asf-logo-wide HTTP/1.1                                                     39\n",
      "GET http://localhost:8080/ HTTP/1.1                                                                  39\n",
      "GET http://localhost:8080/asf-logo-wide.gif/ HTTP/1.1                                                38\n",
      "GET http://localhost:8080/tienda1/4861362529278789730 HTTP/1.1                                       38\n",
      "GET http://localhost:8080/asf-logo-wide.gif HTTP/1.1                                                 37\n",
      "PUT http://localhost:8080/tienda1/publico/pagar.jsp HTTP/1.1                                         36\n",
      "GET http://localhost:8080/4861362529278789730 HTTP/1.1                                               36\n",
      "GET http://localhost:8080/6909030637832563290.jsp HTTP/1.1                                           34\n",
      "GET http://localhost:8080/tienda1.old HTTP/1.1                                                       31\n",
      "id=1                                                                                                 30\n",
      "GET http://localhost:8080/tienda1.inc HTTP/1.1                                                       28\n",
      "GET http://localhost:8080.old HTTP/1.1                                                               27\n",
      "GET http://localhost:8080/tienda1.Old HTTP/1.1                                                       26\n",
      "GET http://localhost:8080.Inc HTTP/1.1                                                               25\n",
      "GET http://localhost:8080.bak HTTP/1.1                                                               23\n",
      "GET http://localhost:8080/WebSphereSamples/ HTTP/1.1                                                 23\n",
      "GET http://localhost:8080/tienda1.bak HTTP/1.1                                                       23\n",
      "GET http://localhost:8080.Old HTTP/1.1                                                               22\n",
      "GET http://localhost:8080/tienda1.OLD HTTP/1.1                                                       21\n",
      "dtype: int64\n",
      "                  sentence\n",
      "count                25462\n",
      "unique               15972\n",
      "top     B2A=Vaciar+carrito\n",
      "freq                   451\n"
     ]
    }
   ],
   "source": [
    "print(data.value_counts().head(40))\n",
    "print(data.describe())"
   ]
  },
  {
   "cell_type": "code",
   "execution_count": 38,
   "metadata": {},
   "outputs": [],
   "source": [
    "from urllib.parse import unquote\n",
    "import re\n",
    "\n",
    "REPLACE_BY_SPACE_RE = re.compile('[^0-9a-zA-Z _]')\n",
    "#REPLACE_BY_SPACE_RE = re.compile('[/(){}\\[\\]\\|@,;]')\n",
    "\n",
    "def extract_text(text):\n",
    "    if text.startswith('GET http'):\n",
    "        url = text.split()[1]\n",
    "        if '?' in url:\n",
    "            text = url[url.index('?')+1:].strip()\n",
    "        else:\n",
    "            text = ''\n",
    "    text = unquote(text) \n",
    "    \n",
    "    text = text.lower() \n",
    "    text = REPLACE_BY_SPACE_RE.sub(' ', text) \n",
    "    return text\n",
    "\n",
    "data['sentence'] =data['sentence'].apply(extract_text)"
   ]
  },
  {
   "cell_type": "code",
   "execution_count": 39,
   "metadata": {},
   "outputs": [
    {
     "data": {
      "text/html": [
       "<div>\n",
       "<style scoped>\n",
       "    .dataframe tbody tr th:only-of-type {\n",
       "        vertical-align: middle;\n",
       "    }\n",
       "\n",
       "    .dataframe tbody tr th {\n",
       "        vertical-align: top;\n",
       "    }\n",
       "\n",
       "    .dataframe thead th {\n",
       "        text-align: right;\n",
       "    }\n",
       "</style>\n",
       "<table border=\"1\" class=\"dataframe\">\n",
       "  <thead>\n",
       "    <tr style=\"text-align: right;\">\n",
       "      <th></th>\n",
       "      <th>sentence</th>\n",
       "    </tr>\n",
       "  </thead>\n",
       "  <tbody>\n",
       "    <tr>\n",
       "      <th>count</th>\n",
       "      <td>25462</td>\n",
       "    </tr>\n",
       "    <tr>\n",
       "      <th>unique</th>\n",
       "      <td>7278</td>\n",
       "    </tr>\n",
       "    <tr>\n",
       "      <th>top</th>\n",
       "      <td></td>\n",
       "    </tr>\n",
       "    <tr>\n",
       "      <th>freq</th>\n",
       "      <td>5479</td>\n",
       "    </tr>\n",
       "  </tbody>\n",
       "</table>\n",
       "</div>"
      ],
      "text/plain": [
       "       sentence\n",
       "count     25462\n",
       "unique     7278\n",
       "top            \n",
       "freq       5479"
      ]
     },
     "execution_count": 39,
     "metadata": {},
     "output_type": "execute_result"
    }
   ],
   "source": [
    "data.describe()"
   ]
  },
  {
   "cell_type": "code",
   "execution_count": 40,
   "metadata": {},
   "outputs": [],
   "source": [
    "data = data.drop(data[data['sentence'].str.strip(' \\t\\n\\r') ==''].index)"
   ]
  },
  {
   "cell_type": "code",
   "execution_count": 41,
   "metadata": {},
   "outputs": [],
   "source": [
    "data=data.reset_index().drop('index',axis=1)"
   ]
  },
  {
   "cell_type": "code",
   "execution_count": 42,
   "metadata": {},
   "outputs": [
    {
     "data": {
      "text/html": [
       "<div>\n",
       "<style scoped>\n",
       "    .dataframe tbody tr th:only-of-type {\n",
       "        vertical-align: middle;\n",
       "    }\n",
       "\n",
       "    .dataframe tbody tr th {\n",
       "        vertical-align: top;\n",
       "    }\n",
       "\n",
       "    .dataframe thead th {\n",
       "        text-align: right;\n",
       "    }\n",
       "</style>\n",
       "<table border=\"1\" class=\"dataframe\">\n",
       "  <thead>\n",
       "    <tr style=\"text-align: right;\">\n",
       "      <th></th>\n",
       "      <th>sentence</th>\n",
       "    </tr>\n",
       "  </thead>\n",
       "  <tbody>\n",
       "    <tr>\n",
       "      <th>count</th>\n",
       "      <td>19983</td>\n",
       "    </tr>\n",
       "    <tr>\n",
       "      <th>unique</th>\n",
       "      <td>7277</td>\n",
       "    </tr>\n",
       "    <tr>\n",
       "      <th>top</th>\n",
       "      <td>b2a vaciar carrito</td>\n",
       "    </tr>\n",
       "    <tr>\n",
       "      <th>freq</th>\n",
       "      <td>902</td>\n",
       "    </tr>\n",
       "  </tbody>\n",
       "</table>\n",
       "</div>"
      ],
      "text/plain": [
       "                  sentence\n",
       "count                19983\n",
       "unique                7277\n",
       "top     b2a vaciar carrito\n",
       "freq                   902"
      ]
     },
     "execution_count": 42,
     "metadata": {},
     "output_type": "execute_result"
    }
   ],
   "source": [
    "data.describe()"
   ]
  },
  {
   "cell_type": "code",
   "execution_count": 43,
   "metadata": {},
   "outputs": [],
   "source": [
    "data.to_csv('../data/processed/'+filename,index=None,header=None,)"
   ]
  }
 ],
 "metadata": {
  "kernelspec": {
   "display_name": "Python 3",
   "language": "python",
   "name": "python3"
  },
  "language_info": {
   "codemirror_mode": {
    "name": "ipython",
    "version": 3
   },
   "file_extension": ".py",
   "mimetype": "text/x-python",
   "name": "python",
   "nbconvert_exporter": "python",
   "pygments_lexer": "ipython3",
   "version": "3.10.7"
  },
  "orig_nbformat": 4
 },
 "nbformat": 4,
 "nbformat_minor": 2
}
