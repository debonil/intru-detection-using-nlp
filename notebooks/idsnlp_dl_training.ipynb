{
 "cells": [
  {
   "cell_type": "code",
   "execution_count": 1,
   "metadata": {},
   "outputs": [],
   "source": [
    "import pandas as pd\n",
    "from sklearn.model_selection import train_test_split\n",
    "from sklearn.feature_extraction.text import CountVectorizer, TfidfVectorizer\n",
    "from sklearn.tree import DecisionTreeClassifier\n",
    "from sklearn.naive_bayes import MultinomialNB\n",
    "from sklearn.metrics import accuracy_score\n",
    "import matplotlib.pyplot as plt\n",
    "import numpy as np\n"
   ]
  },
  {
   "cell_type": "code",
   "execution_count": 2,
   "metadata": {},
   "outputs": [
    {
     "name": "stdout",
     "output_type": "stream",
     "text": [
      "                                                 request  label\n",
      "0      modo entrar login barkwill8 pwd desmoralizaci�...      0\n",
      "1      entrar modo entrar login berenice pwda enfeuda...      1\n",
      "2      boudaoudi-griffeth@muchacha.com.dz dni 1307408...      1\n",
      "3      \"modo registro login guilbaul password 5oment_...      0\n",
      "4      registro login romani password vol'tura nombre...      1\n",
      "...                                                  ...    ...\n",
      "42607             modo insertar precio 4760 b1 confirmar      0\n",
      "42608                                               id 1      0\n",
      "42609  \"modo registro login baominh password 2a!l01t6...      0\n",
      "42610                                  b2 vaciar carrito      0\n",
      "42611  modo entrar login jia pwd 2e64n8m5 remember on...      0\n",
      "\n",
      "[42612 rows x 2 columns]\n"
     ]
    }
   ],
   "source": [
    "data = pd.read_csv('../data/processed/clean_raw_text_merged.csv')\n",
    "print(data)\n"
   ]
  },
  {
   "cell_type": "code",
   "execution_count": 3,
   "metadata": {},
   "outputs": [],
   "source": [
    "labels = data['label']\n"
   ]
  },
  {
   "attachments": {},
   "cell_type": "markdown",
   "metadata": {},
   "source": [
    "2.Define a text preprocessing pipeline, i.e., stopword removal, lower casing, punctuation removal etc\n",
    "1.Define your own train-val-test split. Ratio : (train: 18: test : 5 , val : 2)"
   ]
  },
  {
   "cell_type": "code",
   "execution_count": 4,
   "metadata": {},
   "outputs": [
    {
     "name": "stderr",
     "output_type": "stream",
     "text": [
      "[nltk_data] Downloading package stopwords to\n",
      "[nltk_data]     C:\\Users\\debon\\AppData\\Roaming\\nltk_data...\n",
      "[nltk_data]   Package stopwords is already up-to-date!\n"
     ]
    }
   ],
   "source": [
    "from nltk.corpus import stopwords\n",
    "import nltk\n",
    "import re\n",
    "nltk.download('stopwords')\n",
    "\n",
    "REPLACE_BY_SPACE_RE = re.compile('[/(){}\\[\\]\\|@,;]')\n",
    "BAD_SYMBOLS_RE = re.compile('[^0-9a-z #+_]')\n",
    "STOPWORDS = set(stopwords.words('english'))\n",
    "\n",
    "\n",
    "def clean_text(text):\n",
    "    text = text.lower()\n",
    "    text = REPLACE_BY_SPACE_RE.sub(' ', text)\n",
    "    text = BAD_SYMBOLS_RE.sub('', text)\n",
    "    text = text.replace('x', '')\n",
    "    text = text.replace('\\d+', '')\n",
    "\n",
    "#    text = re.sub(r'\\W+', '', text)\n",
    "    # remove stopwors from text\n",
    "    text = ' '.join(word for word in text.split() if word not in STOPWORDS)\n",
    "    return text\n",
    "\n",
    "\n",
    "requests = data['request'].apply(clean_text)\n"
   ]
  },
  {
   "cell_type": "code",
   "execution_count": 5,
   "metadata": {},
   "outputs": [],
   "source": [
    "X_train, X_test, y_train, y_test = train_test_split(\n",
    "    requests, labels, test_size=0.2, random_state=1)\n",
    "X_train, X_val, y_train, y_val = train_test_split(\n",
    "    X_train, y_train, test_size=0.1, random_state=1)\n"
   ]
  },
  {
   "cell_type": "code",
   "execution_count": 6,
   "metadata": {},
   "outputs": [
    {
     "name": "stdout",
     "output_type": "stream",
     "text": [
      "(8523,)\n",
      "(30680,)\n",
      "(3409,)\n"
     ]
    }
   ],
   "source": [
    "print(X_test.shape)\n",
    "print(X_train.shape)\n",
    "print(X_val.shape)\n"
   ]
  },
  {
   "attachments": {},
   "cell_type": "markdown",
   "metadata": {},
   "source": [
    "Developing ML methods:\n",
    "1. Model a Naive Bayes classifier.\n",
    "a. Count vectorizer features.\n",
    "b. TF-IDF features.\n"
   ]
  },
  {
   "cell_type": "code",
   "execution_count": 7,
   "metadata": {},
   "outputs": [],
   "source": [
    "vectorizer = CountVectorizer()\n",
    "X_train_count = vectorizer.fit_transform(X_train)\n",
    "clf = MultinomialNB()\n",
    "clf.fit(X_train_count, y_train)\n",
    "\n",
    "X_test_count = vectorizer.transform(X_test)\n",
    "y_pred = clf.predict(X_test_count)\n",
    "accuracy = accuracy_score(y_test, y_pred)\n"
   ]
  },
  {
   "cell_type": "code",
   "execution_count": 8,
   "metadata": {},
   "outputs": [
    {
     "name": "stdout",
     "output_type": "stream",
     "text": [
      "98.48644843365012\n"
     ]
    }
   ],
   "source": [
    "print(accuracy*100)\n"
   ]
  },
  {
   "cell_type": "code",
   "execution_count": 9,
   "metadata": {},
   "outputs": [],
   "source": [
    "vectorizer = TfidfVectorizer()\n",
    "X_train_tfidf = vectorizer.fit_transform(X_train)\n",
    "\n",
    "clf = MultinomialNB()\n",
    "clf.fit(X_train_tfidf, y_train)\n",
    "\n",
    "X_test_tfidf = vectorizer.transform(X_test)\n",
    "y_pred = clf.predict(X_test_tfidf)\n",
    "accuracy_tfidf = accuracy_score(y_test, y_pred)\n"
   ]
  },
  {
   "cell_type": "code",
   "execution_count": 10,
   "metadata": {},
   "outputs": [
    {
     "name": "stdout",
     "output_type": "stream",
     "text": [
      "94.22738472368884\n"
     ]
    }
   ],
   "source": [
    "print(accuracy_tfidf*100)\n"
   ]
  },
  {
   "attachments": {},
   "cell_type": "markdown",
   "metadata": {},
   "source": [
    "3. ii ) Model a decision tree with TF-IDF features"
   ]
  },
  {
   "cell_type": "code",
   "execution_count": 11,
   "metadata": {},
   "outputs": [],
   "source": [
    "clf = DecisionTreeClassifier()\n",
    "clf.fit(X_train_tfidf, y_train)\n",
    "y_pred = clf.predict(X_test_tfidf)\n",
    "accuracy_dec = accuracy_score(y_test, y_pred)\n"
   ]
  },
  {
   "cell_type": "code",
   "execution_count": 12,
   "metadata": {},
   "outputs": [
    {
     "name": "stdout",
     "output_type": "stream",
     "text": [
      "92.4439751261293\n"
     ]
    }
   ],
   "source": [
    "print(accuracy_dec*100)\n"
   ]
  },
  {
   "attachments": {},
   "cell_type": "markdown",
   "metadata": {},
   "source": [
    "4. Developing Deep neural networks:\n",
    "\n",
    "    a. RNN model.\n",
    "    \n",
    "      1. 64 hidden-vector dimension.\n"
   ]
  },
  {
   "cell_type": "code",
   "execution_count": 13,
   "metadata": {},
   "outputs": [],
   "source": [
    "# helps in model building\n",
    "from tensorflow import keras\n",
    "from keras.models import Sequential\n",
    "from keras.layers import Dense\n",
    "from keras.layers import SimpleRNN\n",
    "from keras.layers import InputLayer\n",
    "from keras.layers import Flatten\n",
    "from keras.layers import Dropout\n",
    "from keras.layers import Embedding\n",
    "from keras.layers import Bidirectional\n",
    "from keras.layers import LSTM\n",
    "from keras.callbacks import EarlyStopping\n"
   ]
  },
  {
   "cell_type": "code",
   "execution_count": 14,
   "metadata": {},
   "outputs": [],
   "source": [
    "# helps in text preprocessing\n",
    "from keras.utils import pad_sequences\n",
    "from keras.preprocessing.text import Tokenizer\n",
    "\n",
    "t = Tokenizer()\n",
    "t.fit_on_texts(X_train)\n"
   ]
  },
  {
   "cell_type": "code",
   "execution_count": 15,
   "metadata": {},
   "outputs": [
    {
     "name": "stdout",
     "output_type": "stream",
     "text": [
      "[[33, 29, 31], [33, 29, 31]]\n"
     ]
    }
   ],
   "source": [
    "encoded_train = t.texts_to_sequences(X_train)\n",
    "encoded_test = t.texts_to_sequences(X_test)\n",
    "encoded_val = t.texts_to_sequences(X_val)\n",
    "print(encoded_train[0:2])\n"
   ]
  },
  {
   "cell_type": "code",
   "execution_count": 16,
   "metadata": {},
   "outputs": [
    {
     "name": "stdout",
     "output_type": "stream",
     "text": [
      "[[33 29 31 ...  0  0  0]\n",
      " [33 29 31 ...  0  0  0]\n",
      " [19 27  3 ...  0  0  0]\n",
      " ...\n",
      " [33 29 31 ...  0  0  0]\n",
      " [ 2 16  4 ...  0  0  0]\n",
      " [ 2 25 17 ...  0  0  0]]\n"
     ]
    }
   ],
   "source": [
    "max_length = 128\n",
    "word_embed_dim = 100\n",
    "vocab_size = len(t.word_index) + 1\n",
    "padded_train = pad_sequences(encoded_train, maxlen=max_length, padding='post')\n",
    "padded_test = pad_sequences(encoded_test, maxlen=max_length, padding='post')\n",
    "padded_val = pad_sequences(encoded_val, maxlen=max_length, padding='post')\n",
    "print(padded_train)\n"
   ]
  },
  {
   "cell_type": "code",
   "execution_count": 17,
   "metadata": {},
   "outputs": [
    {
     "name": "stdout",
     "output_type": "stream",
     "text": [
      "Model: \"SimpleRNNModel64\"\n",
      "_________________________________________________________________\n",
      " Layer (type)                Output Shape              Param #   \n",
      "=================================================================\n",
      " embedding (Embedding)       (None, 128, 100)          4910500   \n",
      "                                                                 \n",
      " simple_rnn (SimpleRNN)      (None, 64)                10560     \n",
      "                                                                 \n",
      " dense (Dense)               (None, 64)                4160      \n",
      "                                                                 \n",
      " dropout (Dropout)           (None, 64)                0         \n",
      "                                                                 \n",
      " dense_1 (Dense)             (None, 1)                 65        \n",
      "                                                                 \n",
      "=================================================================\n",
      "Total params: 4,925,285\n",
      "Trainable params: 4,925,285\n",
      "Non-trainable params: 0\n",
      "_________________________________________________________________\n",
      "None\n"
     ]
    }
   ],
   "source": [
    "\n",
    "# define the model\n",
    "RNNModel64 = Sequential(name=\"SimpleRNNModel64\")\n",
    "RNNModel64.add(Embedding(vocab_size, word_embed_dim, input_length=max_length))\n",
    "RNNModel64.add(SimpleRNN(64, dropout=0.2, return_sequences=False))\n",
    "RNNModel64.add(Dense(64, activation='relu'))\n",
    "RNNModel64.add(keras.layers.Dropout(0.2))\n",
    "RNNModel64.add(Dense(1, activation='relu'))\n",
    "\n",
    "\n",
    "opt = keras.optimizers.Adam(1e-5)\n",
    "\n",
    "# compile the model\n",
    "RNNModel64.compile(optimizer=opt, loss='binary_crossentropy',\n",
    "                   metrics=['accuracy'])\n",
    "\n",
    "# summarize the model\n",
    "print(RNNModel64.summary())\n"
   ]
  },
  {
   "cell_type": "code",
   "execution_count": 18,
   "metadata": {},
   "outputs": [],
   "source": [
    "def plot_training_graph(history):\n",
    "    # list all data in history\n",
    "    print(history.history.keys())\n",
    "    # summarize history for accuracy\n",
    "    plt.plot(history.history['accuracy'])\n",
    "    plt.plot(history.history['val_accuracy'])\n",
    "    plt.title('model accuracy')\n",
    "    plt.ylabel('accuracy')\n",
    "    plt.xlabel('epoch')\n",
    "    plt.legend(['train', 'test'], loc='upper left')\n",
    "    plt.show()\n",
    "    # summarize history for loss\n",
    "    plt.plot(history.history['loss'])\n",
    "    plt.plot(history.history['val_loss'])\n",
    "    plt.title('model loss')\n",
    "    plt.ylabel('loss')\n",
    "    plt.xlabel('epoch')\n",
    "    plt.legend(['train', 'test'], loc='upper left')\n",
    "    plt.show()\n"
   ]
  },
  {
   "cell_type": "code",
   "execution_count": 19,
   "metadata": {},
   "outputs": [
    {
     "name": "stdout",
     "output_type": "stream",
     "text": [
      "Epoch 1/100\n",
      "959/959 [==============================] - 107s 110ms/step - loss: 0.6244 - accuracy: 0.7501 - val_loss: 0.4548 - val_accuracy: 0.7504\n",
      "Epoch 2/100\n",
      "959/959 [==============================] - 116s 121ms/step - loss: 0.4957 - accuracy: 0.8078 - val_loss: 0.3747 - val_accuracy: 0.8730\n",
      "Epoch 3/100\n",
      "959/959 [==============================] - 115s 120ms/step - loss: 0.3983 - accuracy: 0.8954 - val_loss: 0.3082 - val_accuracy: 0.9205\n",
      "Epoch 4/100\n",
      "959/959 [==============================] - 104s 108ms/step - loss: 0.3327 - accuracy: 0.9283 - val_loss: 0.2523 - val_accuracy: 0.9405\n",
      "Epoch 5/100\n",
      "959/959 [==============================] - 88s 92ms/step - loss: 0.2243 - accuracy: 0.9588 - val_loss: 0.3826 - val_accuracy: 0.9440\n",
      "Epoch 6/100\n",
      "959/959 [==============================] - 92s 96ms/step - loss: 0.1925 - accuracy: 0.9692 - val_loss: 0.5218 - val_accuracy: 0.9463\n",
      "Epoch 7/100\n",
      "959/959 [==============================] - 111s 115ms/step - loss: 0.1596 - accuracy: 0.9760 - val_loss: 0.5315 - val_accuracy: 0.9501\n",
      "Epoch 8/100\n",
      "959/959 [==============================] - 98s 102ms/step - loss: 0.1447 - accuracy: 0.9751 - val_loss: 0.5305 - val_accuracy: 0.9510\n",
      "Epoch 9/100\n",
      "959/959 [==============================] - 126s 131ms/step - loss: 0.1311 - accuracy: 0.9807 - val_loss: 0.5716 - val_accuracy: 0.9522\n",
      "Epoch 10/100\n",
      "959/959 [==============================] - 124s 130ms/step - loss: 0.1183 - accuracy: 0.9836 - val_loss: 0.4451 - val_accuracy: 0.9545\n",
      "Epoch 11/100\n",
      "959/959 [==============================] - 92s 96ms/step - loss: 0.1128 - accuracy: 0.9856 - val_loss: 0.5596 - val_accuracy: 0.9539\n",
      "Epoch 12/100\n",
      "959/959 [==============================] - 92s 96ms/step - loss: 0.0978 - accuracy: 0.9869 - val_loss: 0.5624 - val_accuracy: 0.9545\n",
      "Epoch 13/100\n",
      "959/959 [==============================] - 90s 94ms/step - loss: 0.1069 - accuracy: 0.9848 - val_loss: 0.5202 - val_accuracy: 0.9566\n",
      "Epoch 14/100\n",
      "959/959 [==============================] - 91s 95ms/step - loss: 0.0808 - accuracy: 0.9881 - val_loss: 0.5038 - val_accuracy: 0.9607\n",
      "Epoch 14: early stopping\n",
      "dict_keys(['loss', 'accuracy', 'val_loss', 'val_accuracy'])\n"
     ]
    },
    {
     "data": {
      "image/png": "[encoded data removed]",
      "text/plain": [
       "<Figure size 640x480 with 1 Axes>"
      ]
     },
     "metadata": {},
     "output_type": "display_data"
    },
    {
     "data": {
      "image/png": "[encoded data removed]",
      "text/plain": [
       "<Figure size 640x480 with 1 Axes>"
      ]
     },
     "metadata": {},
     "output_type": "display_data"
    }
   ],
   "source": [
    "early_stop = EarlyStopping(\n",
    "    monitor='val_loss', mode='min', verbose=1, patience=10)\n",
    "\n",
    "# fit the model\n",
    "history = RNNModel64.fit(x=padded_train,\n",
    "                         y=y_train,\n",
    "                         epochs=100,\n",
    "                         validation_data=(padded_val, y_val), verbose=1,\n",
    "                         callbacks=[early_stop]\n",
    "                         )\n",
    "plot_training_graph(history)\n"
   ]
  },
  {
   "cell_type": "code",
   "execution_count": 20,
   "metadata": {},
   "outputs": [],
   "source": [
    "from sklearn.metrics import classification_report, confusion_matrix, accuracy_score\n",
    "\n",
    "import matplotlib.pyplot as plt\n",
    "import seaborn as sns\n",
    "\n",
    "\n",
    "def c_report(y_true, y_pred):\n",
    "    print(\"Classification Report\")\n",
    "    print(classification_report(y_true, y_pred))\n",
    "    acc_sc = accuracy_score(y_true, y_pred)\n",
    "    print(\"Accuracy : \" + str(acc_sc))\n",
    "    return acc_sc\n",
    "\n",
    "\n",
    "def plot_confusion_matrix(y_true, y_pred):\n",
    "    mtx = confusion_matrix(y_true, y_pred)\n",
    "    sns.heatmap(mtx, annot=True, fmt='d', linewidths=.5,\n",
    "                cmap=\"Blues\", cbar=False)\n",
    "    plt.ylabel('True label')\n",
    "    plt.xlabel('Predicted label')\n"
   ]
  },
  {
   "cell_type": "code",
   "execution_count": 21,
   "metadata": {},
   "outputs": [
    {
     "name": "stdout",
     "output_type": "stream",
     "text": [
      "267/267 [==============================] - 3s 9ms/step\n"
     ]
    }
   ],
   "source": [
    "preds_rnn_64 = (RNNModel64.predict(padded_test) > 0.5).astype(\"int32\")\n"
   ]
  },
  {
   "cell_type": "code",
   "execution_count": 22,
   "metadata": {},
   "outputs": [
    {
     "name": "stdout",
     "output_type": "stream",
     "text": [
      "Classification Report\n",
      "              precision    recall  f1-score   support\n",
      "\n",
      "           0       0.99      0.95      0.97      6381\n",
      "           1       0.88      0.97      0.92      2142\n",
      "\n",
      "    accuracy                           0.96      8523\n",
      "   macro avg       0.93      0.96      0.95      8523\n",
      "weighted avg       0.96      0.96      0.96      8523\n",
      "\n",
      "Accuracy : 0.9589346474246158\n"
     ]
    },
    {
     "data": {
      "text/plain": [
       "0.9589346474246158"
      ]
     },
     "execution_count": 22,
     "metadata": {},
     "output_type": "execute_result"
    }
   ],
   "source": [
    "c_report(y_test, preds_rnn_64)\n"
   ]
  },
  {
   "cell_type": "code",
   "execution_count": 23,
   "metadata": {},
   "outputs": [
    {
     "data": {
      "image/png": "[encoded data removed]",
      "text/plain": [
       "<Figure size 640x480 with 1 Axes>"
      ]
     },
     "metadata": {},
     "output_type": "display_data"
    }
   ],
   "source": [
    "plot_confusion_matrix(y_test, preds_rnn_64)\n"
   ]
  },
  {
   "attachments": {},
   "cell_type": "markdown",
   "metadata": {},
   "source": [
    "4. Developing Deep neural networks:\n",
    "\n",
    "    a. RNN model.\n",
    "    \n",
    "      2. 256 hidden-vector dimension.\n"
   ]
  },
  {
   "cell_type": "code",
   "execution_count": 24,
   "metadata": {},
   "outputs": [
    {
     "name": "stdout",
     "output_type": "stream",
     "text": [
      "Model: \"SimpleRNNModel256\"\n",
      "_________________________________________________________________\n",
      " Layer (type)                Output Shape              Param #   \n",
      "=================================================================\n",
      " embedding_1 (Embedding)     (None, 128, 100)          4910500   \n",
      "                                                                 \n",
      " simple_rnn_1 (SimpleRNN)    (None, 256)               91392     \n",
      "                                                                 \n",
      " dense_2 (Dense)             (None, 64)                16448     \n",
      "                                                                 \n",
      " dropout_1 (Dropout)         (None, 64)                0         \n",
      "                                                                 \n",
      " dense_3 (Dense)             (None, 1)                 65        \n",
      "                                                                 \n",
      "=================================================================\n",
      "Total params: 5,018,405\n",
      "Trainable params: 5,018,405\n",
      "Non-trainable params: 0\n",
      "_________________________________________________________________\n",
      "None\n"
     ]
    }
   ],
   "source": [
    "# define the model\n",
    "RNNModel256 = Sequential(name=\"SimpleRNNModel256\")\n",
    "RNNModel256.add(Embedding(vocab_size, word_embed_dim, input_length=max_length))\n",
    "RNNModel256.add(SimpleRNN(256, dropout=0.2, return_sequences=False))\n",
    "RNNModel256.add(Dense(64, activation='relu'))\n",
    "RNNModel256.add(keras.layers.Dropout(0.2))\n",
    "RNNModel256.add(Dense(1, activation='relu'))\n",
    "\n",
    "\n",
    "opt = keras.optimizers.Adam(learning_rate=1e-5)\n",
    "\n",
    "# compile the model\n",
    "RNNModel256.compile(\n",
    "    optimizer=opt, loss='binary_crossentropy', metrics=['accuracy'])\n",
    "\n",
    "# summarize the model\n",
    "print(RNNModel256.summary())\n"
   ]
  },
  {
   "cell_type": "code",
   "execution_count": 25,
   "metadata": {},
   "outputs": [
    {
     "name": "stdout",
     "output_type": "stream",
     "text": [
      "Epoch 1/100\n",
      "959/959 [==============================] - 125s 129ms/step - loss: 0.3268 - accuracy: 0.8986 - val_loss: 0.3349 - val_accuracy: 0.9525\n",
      "Epoch 2/100\n",
      "959/959 [==============================] - 131s 137ms/step - loss: 0.2073 - accuracy: 0.9572 - val_loss: 0.3498 - val_accuracy: 0.9495\n",
      "Epoch 3/100\n",
      "959/959 [==============================] - 130s 135ms/step - loss: 0.8346 - accuracy: 0.7088 - val_loss: 0.4239 - val_accuracy: 0.8131\n",
      "Epoch 4/100\n",
      "959/959 [==============================] - 134s 140ms/step - loss: 0.4095 - accuracy: 0.8285 - val_loss: 0.2983 - val_accuracy: 0.9405\n",
      "Epoch 5/100\n",
      "959/959 [==============================] - 184s 192ms/step - loss: 0.2518 - accuracy: 0.9414 - val_loss: 0.1460 - val_accuracy: 0.9745\n",
      "Epoch 6/100\n",
      "959/959 [==============================] - 200s 208ms/step - loss: 0.4363 - accuracy: 0.8463 - val_loss: 0.4293 - val_accuracy: 0.8856\n",
      "Epoch 7/100\n",
      "959/959 [==============================] - 230s 239ms/step - loss: 0.3771 - accuracy: 0.8666 - val_loss: 0.1554 - val_accuracy: 0.9469\n",
      "Epoch 8/100\n",
      "959/959 [==============================] - 229s 238ms/step - loss: 0.3553 - accuracy: 0.9170 - val_loss: 0.2161 - val_accuracy: 0.9619\n",
      "Epoch 9/100\n",
      "959/959 [==============================] - 179s 186ms/step - loss: 0.4541 - accuracy: 0.9331 - val_loss: 0.3914 - val_accuracy: 0.9625\n",
      "Epoch 10/100\n",
      "959/959 [==============================] - 177s 184ms/step - loss: 0.2275 - accuracy: 0.9580 - val_loss: 0.3923 - val_accuracy: 0.9613\n",
      "Epoch 10: early stopping\n",
      "dict_keys(['loss', 'accuracy', 'val_loss', 'val_accuracy'])\n"
     ]
    },
    {
     "data": {
      "image/png": "[encoded data removed]",
      "text/plain": [
       "<Figure size 640x480 with 1 Axes>"
      ]
     },
     "metadata": {},
     "output_type": "display_data"
    },
    {
     "data": {
      "image/png": "[encoded data removed]",
      "text/plain": [
       "<Figure size 640x480 with 1 Axes>"
      ]
     },
     "metadata": {},
     "output_type": "display_data"
    }
   ],
   "source": [
    "early_stop = EarlyStopping(\n",
    "    monitor='val_loss', mode='min', verbose=1, patience=5)\n",
    "\n",
    "# fit the model\n",
    "history = RNNModel256.fit(x=padded_train,\n",
    "                          y=y_train,\n",
    "                          epochs=100,\n",
    "                          validation_data=(padded_val, y_val), verbose=1,\n",
    "                          callbacks=[early_stop]\n",
    "                          )\n",
    "plot_training_graph(history)\n"
   ]
  },
  {
   "cell_type": "code",
   "execution_count": 26,
   "metadata": {},
   "outputs": [
    {
     "name": "stdout",
     "output_type": "stream",
     "text": [
      "267/267 [==============================] - 10s 35ms/step\n"
     ]
    }
   ],
   "source": [
    "preds_rnn_256 = (RNNModel256.predict(padded_test) > 0.5).astype(\"int32\")\n"
   ]
  },
  {
   "cell_type": "code",
   "execution_count": 27,
   "metadata": {},
   "outputs": [
    {
     "name": "stdout",
     "output_type": "stream",
     "text": [
      "Classification Report\n",
      "              precision    recall  f1-score   support\n",
      "\n",
      "           0       0.98      0.96      0.97      6381\n",
      "           1       0.89      0.96      0.92      2142\n",
      "\n",
      "    accuracy                           0.96      8523\n",
      "   macro avg       0.94      0.96      0.95      8523\n",
      "weighted avg       0.96      0.96      0.96      8523\n",
      "\n",
      "Accuracy : 0.9591693065821894\n"
     ]
    },
    {
     "data": {
      "text/plain": [
       "0.9591693065821894"
      ]
     },
     "execution_count": 27,
     "metadata": {},
     "output_type": "execute_result"
    }
   ],
   "source": [
    "c_report(y_test, preds_rnn_256)\n"
   ]
  },
  {
   "cell_type": "code",
   "execution_count": 28,
   "metadata": {},
   "outputs": [
    {
     "data": {
      "image/png": "[encoded data removed]",
      "text/plain": [
       "<Figure size 640x480 with 1 Axes>"
      ]
     },
     "metadata": {},
     "output_type": "display_data"
    }
   ],
   "source": [
    "plot_confusion_matrix(y_test, preds_rnn_256)\n"
   ]
  },
  {
   "attachments": {},
   "cell_type": "markdown",
   "metadata": {},
   "source": [
    "4. Developing Deep neural networks:\n",
    "\n",
    "    b. 1-layer LSTM model\n"
   ]
  },
  {
   "cell_type": "code",
   "execution_count": 29,
   "metadata": {},
   "outputs": [
    {
     "name": "stdout",
     "output_type": "stream",
     "text": [
      "Model: \"SingleLSTMLayer64\"\n",
      "_________________________________________________________________\n",
      " Layer (type)                Output Shape              Param #   \n",
      "=================================================================\n",
      " embedding_2 (Embedding)     (None, 128, 100)          4910500   \n",
      "                                                                 \n",
      " lstm (LSTM)                 (None, 64)                42240     \n",
      "                                                                 \n",
      " dense_4 (Dense)             (None, 64)                4160      \n",
      "                                                                 \n",
      " dropout_2 (Dropout)         (None, 64)                0         \n",
      "                                                                 \n",
      " dense_5 (Dense)             (None, 1)                 65        \n",
      "                                                                 \n",
      "=================================================================\n",
      "Total params: 4,956,965\n",
      "Trainable params: 4,956,965\n",
      "Non-trainable params: 0\n",
      "_________________________________________________________________\n",
      "None\n"
     ]
    }
   ],
   "source": [
    "# define the model\n",
    "SingleLSTMLayer64 = Sequential(name=\"SingleLSTMLayer64\")\n",
    "SingleLSTMLayer64.add(\n",
    "    Embedding(vocab_size, word_embed_dim, input_length=max_length))\n",
    "SingleLSTMLayer64.add(LSTM(64, dropout=0.2, return_sequences=False))\n",
    "SingleLSTMLayer64.add(Dense(64, activation='relu'))\n",
    "SingleLSTMLayer64.add(keras.layers.Dropout(0.1))\n",
    "SingleLSTMLayer64.add(Dense(1, activation='relu'))\n",
    "\n",
    "\n",
    "opt = keras.optimizers.Adam(learning_rate=1e-5)\n",
    "\n",
    "# compile the model\n",
    "SingleLSTMLayer64.compile(\n",
    "    optimizer=opt, loss='binary_crossentropy', metrics=['accuracy'])\n",
    "\n",
    "# summarize the model\n",
    "print(SingleLSTMLayer64.summary())\n"
   ]
  },
  {
   "cell_type": "code",
   "execution_count": 30,
   "metadata": {},
   "outputs": [
    {
     "name": "stdout",
     "output_type": "stream",
     "text": [
      "Epoch 1/100\n",
      "959/959 [==============================] - 185s 187ms/step - loss: 0.6017 - accuracy: 0.7517 - val_loss: 0.5620 - val_accuracy: 0.7504\n",
      "Epoch 2/100\n",
      "959/959 [==============================] - 187s 195ms/step - loss: 0.5627 - accuracy: 0.7517 - val_loss: 0.5620 - val_accuracy: 0.7504\n",
      "Epoch 3/100\n",
      "959/959 [==============================] - 215s 224ms/step - loss: 0.5623 - accuracy: 0.7517 - val_loss: 0.5622 - val_accuracy: 0.7504\n",
      "Epoch 4/100\n",
      "959/959 [==============================] - 169s 176ms/step - loss: 0.5622 - accuracy: 0.7517 - val_loss: 0.5621 - val_accuracy: 0.7504\n",
      "Epoch 5/100\n",
      "959/959 [==============================] - 176s 184ms/step - loss: 0.5625 - accuracy: 0.7517 - val_loss: 0.5619 - val_accuracy: 0.7504\n",
      "Epoch 6/100\n",
      "959/959 [==============================] - 170s 177ms/step - loss: 0.5625 - accuracy: 0.7517 - val_loss: 0.5619 - val_accuracy: 0.7504\n",
      "Epoch 7/100\n",
      "959/959 [==============================] - 179s 186ms/step - loss: 0.5615 - accuracy: 0.7517 - val_loss: 0.5620 - val_accuracy: 0.7504\n",
      "Epoch 8/100\n",
      "959/959 [==============================] - 171s 179ms/step - loss: 0.5620 - accuracy: 0.7517 - val_loss: 0.5619 - val_accuracy: 0.7504\n",
      "Epoch 9/100\n",
      "959/959 [==============================] - 177s 184ms/step - loss: 0.5622 - accuracy: 0.7517 - val_loss: 0.5621 - val_accuracy: 0.7504\n",
      "Epoch 10/100\n",
      "959/959 [==============================] - 172s 179ms/step - loss: 0.5617 - accuracy: 0.7517 - val_loss: 0.5620 - val_accuracy: 0.7504\n",
      "Epoch 11/100\n",
      "959/959 [==============================] - 174s 181ms/step - loss: 0.5622 - accuracy: 0.7517 - val_loss: 0.5621 - val_accuracy: 0.7504\n",
      "Epoch 12/100\n",
      "959/959 [==============================] - 181s 188ms/step - loss: 0.5618 - accuracy: 0.7517 - val_loss: 0.5619 - val_accuracy: 0.7504\n",
      "Epoch 13/100\n",
      "959/959 [==============================] - 218s 228ms/step - loss: 0.5613 - accuracy: 0.7517 - val_loss: 0.5620 - val_accuracy: 0.7504\n",
      "Epoch 14/100\n",
      "959/959 [==============================] - 175s 182ms/step - loss: 0.5620 - accuracy: 0.7517 - val_loss: 0.5620 - val_accuracy: 0.7504\n",
      "Epoch 15/100\n",
      "959/959 [==============================] - 186s 194ms/step - loss: 0.5625 - accuracy: 0.7517 - val_loss: 0.5620 - val_accuracy: 0.7504\n",
      "Epoch 16/100\n",
      "959/959 [==============================] - 177s 185ms/step - loss: 0.5617 - accuracy: 0.7517 - val_loss: 0.5621 - val_accuracy: 0.7504\n",
      "Epoch 17/100\n",
      "959/959 [==============================] - 178s 185ms/step - loss: 0.5624 - accuracy: 0.7517 - val_loss: 0.5620 - val_accuracy: 0.7504\n",
      "Epoch 18/100\n",
      "959/959 [==============================] - 173s 180ms/step - loss: 0.5615 - accuracy: 0.7517 - val_loss: 0.5619 - val_accuracy: 0.7504\n",
      "Epoch 18: early stopping\n",
      "dict_keys(['loss', 'accuracy', 'val_loss', 'val_accuracy'])\n"
     ]
    },
    {
     "data": {
      "image/png": "[encoded data removed]",
      "text/plain": [
       "<Figure size 640x480 with 1 Axes>"
      ]
     },
     "metadata": {},
     "output_type": "display_data"
    },
    {
     "data": {
      "image/png": "[encoded data removed]",
      "text/plain": [
       "<Figure size 640x480 with 1 Axes>"
      ]
     },
     "metadata": {},
     "output_type": "display_data"
    }
   ],
   "source": [
    "early_stop = EarlyStopping(\n",
    "    monitor='val_loss', mode='min', verbose=1, patience=10)\n",
    "\n",
    "# fit the model\n",
    "history = SingleLSTMLayer64.fit(x=padded_train,\n",
    "                                y=y_train,\n",
    "                                epochs=100,\n",
    "                                validation_data=(padded_val, y_val), verbose=1,\n",
    "                                callbacks=[early_stop]\n",
    "                                )\n",
    "plot_training_graph(history)\n"
   ]
  },
  {
   "cell_type": "code",
   "execution_count": 31,
   "metadata": {},
   "outputs": [
    {
     "name": "stdout",
     "output_type": "stream",
     "text": [
      "267/267 [==============================] - 11s 37ms/step\n"
     ]
    }
   ],
   "source": [
    "preds_1_lstm_64 = (SingleLSTMLayer64.predict(\n",
    "    padded_test) > 0.5).astype(\"int32\")\n"
   ]
  },
  {
   "cell_type": "code",
   "execution_count": 32,
   "metadata": {},
   "outputs": [
    {
     "name": "stdout",
     "output_type": "stream",
     "text": [
      "Classification Report\n",
      "              precision    recall  f1-score   support\n",
      "\n",
      "           0       0.75      1.00      0.86      6381\n",
      "           1       0.00      0.00      0.00      2142\n",
      "\n",
      "    accuracy                           0.75      8523\n",
      "   macro avg       0.37      0.50      0.43      8523\n",
      "weighted avg       0.56      0.75      0.64      8523\n",
      "\n",
      "Accuracy : 0.7486800422386484\n"
     ]
    },
    {
     "name": "stderr",
     "output_type": "stream",
     "text": [
      "c:\\Users\\debon\\AppData\\Local\\Programs\\Python\\Python310\\lib\\site-packages\\sklearn\\metrics\\_classification.py:1334: UndefinedMetricWarning: Precision and F-score are ill-defined and being set to 0.0 in labels with no predicted samples. Use `zero_division` parameter to control this behavior.\n",
      "  _warn_prf(average, modifier, msg_start, len(result))\n",
      "c:\\Users\\debon\\AppData\\Local\\Programs\\Python\\Python310\\lib\\site-packages\\sklearn\\metrics\\_classification.py:1334: UndefinedMetricWarning: Precision and F-score are ill-defined and being set to 0.0 in labels with no predicted samples. Use `zero_division` parameter to control this behavior.\n",
      "  _warn_prf(average, modifier, msg_start, len(result))\n",
      "c:\\Users\\debon\\AppData\\Local\\Programs\\Python\\Python310\\lib\\site-packages\\sklearn\\metrics\\_classification.py:1334: UndefinedMetricWarning: Precision and F-score are ill-defined and being set to 0.0 in labels with no predicted samples. Use `zero_division` parameter to control this behavior.\n",
      "  _warn_prf(average, modifier, msg_start, len(result))\n"
     ]
    },
    {
     "data": {
      "text/plain": [
       "0.7486800422386484"
      ]
     },
     "execution_count": 32,
     "metadata": {},
     "output_type": "execute_result"
    }
   ],
   "source": [
    "c_report(y_test, preds_1_lstm_64)\n"
   ]
  },
  {
   "cell_type": "code",
   "execution_count": 33,
   "metadata": {},
   "outputs": [
    {
     "data": {
      "image/png": "[encoded data removed]",
      "text/plain": [
       "<Figure size 640x480 with 1 Axes>"
      ]
     },
     "metadata": {},
     "output_type": "display_data"
    }
   ],
   "source": [
    "plot_confusion_matrix(y_test, preds_1_lstm_64)\n"
   ]
  },
  {
   "attachments": {},
   "cell_type": "markdown",
   "metadata": {},
   "source": [
    "4. Developing Deep neural networks:\n",
    "\n",
    "    c. 2-layer LSTM model\n"
   ]
  },
  {
   "cell_type": "code",
   "execution_count": 34,
   "metadata": {},
   "outputs": [
    {
     "name": "stdout",
     "output_type": "stream",
     "text": [
      "Model: \"DoubleLSTMLayer64\"\n",
      "_________________________________________________________________\n",
      " Layer (type)                Output Shape              Param #   \n",
      "=================================================================\n",
      " embedding_3 (Embedding)     (None, 128, 100)          4910500   \n",
      "                                                                 \n",
      " lstm_1 (LSTM)               (None, 128, 64)           42240     \n",
      "                                                                 \n",
      " lstm_2 (LSTM)               (None, 32)                12416     \n",
      "                                                                 \n",
      " dense_6 (Dense)             (None, 32)                1056      \n",
      "                                                                 \n",
      " dropout_3 (Dropout)         (None, 32)                0         \n",
      "                                                                 \n",
      " dense_7 (Dense)             (None, 1)                 33        \n",
      "                                                                 \n",
      "=================================================================\n",
      "Total params: 4,966,245\n",
      "Trainable params: 4,966,245\n",
      "Non-trainable params: 0\n",
      "_________________________________________________________________\n",
      "None\n"
     ]
    }
   ],
   "source": [
    "# define the model\n",
    "DoubleLSTMLayer64 = Sequential(name=\"DoubleLSTMLayer64\")\n",
    "DoubleLSTMLayer64.add(\n",
    "    Embedding(vocab_size, word_embed_dim, input_length=max_length))\n",
    "DoubleLSTMLayer64.add(LSTM(64, dropout=0.2, return_sequences=True))\n",
    "DoubleLSTMLayer64.add(LSTM(32, dropout=0.2, return_sequences=False))\n",
    "DoubleLSTMLayer64.add(Dense(32, activation='relu'))\n",
    "DoubleLSTMLayer64.add(keras.layers.Dropout(0.1))\n",
    "DoubleLSTMLayer64.add(Dense(1, activation='relu'))\n",
    "\n",
    "\n",
    "opt = keras.optimizers.Adam(learning_rate=1e-5)\n",
    "\n",
    "# compile the model\n",
    "DoubleLSTMLayer64.compile(\n",
    "    optimizer=opt, loss='binary_crossentropy', metrics=['accuracy'])\n",
    "\n",
    "# summarize the model\n",
    "print(DoubleLSTMLayer64.summary())\n"
   ]
  },
  {
   "cell_type": "code",
   "execution_count": 35,
   "metadata": {},
   "outputs": [
    {
     "name": "stdout",
     "output_type": "stream",
     "text": [
      "Epoch 1/100\n",
      "959/959 [==============================] - 254s 255ms/step - loss: 1.3962 - accuracy: 0.7517 - val_loss: 0.7617 - val_accuracy: 0.7504\n",
      "Epoch 2/100\n",
      "959/959 [==============================] - 207s 216ms/step - loss: 0.7219 - accuracy: 0.7517 - val_loss: 0.6580 - val_accuracy: 0.7504\n",
      "Epoch 3/100\n",
      "959/959 [==============================] - 200s 209ms/step - loss: 0.6317 - accuracy: 0.7517 - val_loss: 0.5922 - val_accuracy: 0.7504\n",
      "Epoch 4/100\n",
      "959/959 [==============================] - 257s 268ms/step - loss: 0.5797 - accuracy: 0.7517 - val_loss: 0.5640 - val_accuracy: 0.7504\n",
      "Epoch 5/100\n",
      "959/959 [==============================] - 267s 278ms/step - loss: 0.5664 - accuracy: 0.7517 - val_loss: 0.5619 - val_accuracy: 0.7504\n",
      "Epoch 6/100\n",
      "959/959 [==============================] - 11056s 12s/step - loss: 0.5658 - accuracy: 0.7517 - val_loss: 0.5620 - val_accuracy: 0.7504\n",
      "Epoch 7/100\n",
      "959/959 [==============================] - 195s 204ms/step - loss: 0.5666 - accuracy: 0.7517 - val_loss: 0.5619 - val_accuracy: 0.7504\n",
      "Epoch 8/100\n",
      "959/959 [==============================] - 187s 195ms/step - loss: 0.5670 - accuracy: 0.7517 - val_loss: 0.5619 - val_accuracy: 0.7504\n",
      "Epoch 9/100\n",
      "959/959 [==============================] - 176s 183ms/step - loss: 0.5645 - accuracy: 0.7517 - val_loss: 0.5619 - val_accuracy: 0.7504\n",
      "Epoch 10/100\n",
      "959/959 [==============================] - 179s 186ms/step - loss: 0.5656 - accuracy: 0.7517 - val_loss: 0.5622 - val_accuracy: 0.7504\n",
      "Epoch 11/100\n",
      "959/959 [==============================] - 311s 324ms/step - loss: 0.5642 - accuracy: 0.7517 - val_loss: 0.5619 - val_accuracy: 0.7504\n",
      "Epoch 12/100\n",
      "959/959 [==============================] - 249s 259ms/step - loss: 0.5649 - accuracy: 0.7517 - val_loss: 0.5619 - val_accuracy: 0.7504\n",
      "Epoch 13/100\n",
      "959/959 [==============================] - 274s 286ms/step - loss: 0.5651 - accuracy: 0.7517 - val_loss: 0.5620 - val_accuracy: 0.7504\n",
      "Epoch 14/100\n",
      "959/959 [==============================] - 221s 231ms/step - loss: 0.5641 - accuracy: 0.7517 - val_loss: 0.5619 - val_accuracy: 0.7504\n",
      "Epoch 15/100\n",
      "959/959 [==============================] - 221s 231ms/step - loss: 0.5639 - accuracy: 0.7517 - val_loss: 0.5619 - val_accuracy: 0.7504\n",
      "Epoch 16/100\n",
      "959/959 [==============================] - 232s 241ms/step - loss: 0.5641 - accuracy: 0.7517 - val_loss: 0.5619 - val_accuracy: 0.7504\n",
      "Epoch 17/100\n",
      "959/959 [==============================] - 218s 228ms/step - loss: 0.5640 - accuracy: 0.7517 - val_loss: 0.5619 - val_accuracy: 0.7504\n",
      "Epoch 18/100\n",
      "959/959 [==============================] - 208s 217ms/step - loss: 0.5629 - accuracy: 0.7517 - val_loss: 0.5620 - val_accuracy: 0.7504\n",
      "Epoch 19/100\n",
      "959/959 [==============================] - 192s 200ms/step - loss: 0.5640 - accuracy: 0.7517 - val_loss: 0.5621 - val_accuracy: 0.7504\n",
      "Epoch 20/100\n",
      "953/959 [============================>.] - ETA: 1s - loss: 0.5641 - accuracy: 0.7518"
     ]
    },
    {
     "ename": "KeyboardInterrupt",
     "evalue": "",
     "output_type": "error",
     "traceback": [
      "\u001b[1;31m---------------------------------------------------------------------------\u001b[0m",
      "\u001b[1;31mKeyboardInterrupt\u001b[0m                         Traceback (most recent call last)",
      "\u001b[1;32mg:\\MTechClasses\\Security and Application\\Project\\intru-detection-using-nlp\\notebooks\\idsnlp_dl_training.ipynb Cell 42\u001b[0m in \u001b[0;36m4\n\u001b[0;32m      <a href='vscode-notebook-cell:/g%3A/MTechClasses/Security%20and%20Application/Project/intru-detection-using-nlp/notebooks/idsnlp_dl_training.ipynb#X56sZmlsZQ%3D%3D?line=0'>1</a>\u001b[0m early_stop \u001b[39m=\u001b[39m EarlyStopping(monitor\u001b[39m=\u001b[39m\u001b[39m'\u001b[39m\u001b[39mval_loss\u001b[39m\u001b[39m'\u001b[39m, mode\u001b[39m=\u001b[39m\u001b[39m'\u001b[39m\u001b[39mmin\u001b[39m\u001b[39m'\u001b[39m, verbose\u001b[39m=\u001b[39m\u001b[39m1\u001b[39m, patience\u001b[39m=\u001b[39m\u001b[39m10\u001b[39m)\n\u001b[0;32m      <a href='vscode-notebook-cell:/g%3A/MTechClasses/Security%20and%20Application/Project/intru-detection-using-nlp/notebooks/idsnlp_dl_training.ipynb#X56sZmlsZQ%3D%3D?line=2'>3</a>\u001b[0m \u001b[39m# fit the model\u001b[39;00m\n\u001b[1;32m----> <a href='vscode-notebook-cell:/g%3A/MTechClasses/Security%20and%20Application/Project/intru-detection-using-nlp/notebooks/idsnlp_dl_training.ipynb#X56sZmlsZQ%3D%3D?line=3'>4</a>\u001b[0m history \u001b[39m=\u001b[39m DoubleLSTMLayer64\u001b[39m.\u001b[39;49mfit(x\u001b[39m=\u001b[39;49mpadded_train,\n\u001b[0;32m      <a href='vscode-notebook-cell:/g%3A/MTechClasses/Security%20and%20Application/Project/intru-detection-using-nlp/notebooks/idsnlp_dl_training.ipynb#X56sZmlsZQ%3D%3D?line=4'>5</a>\u001b[0m          y\u001b[39m=\u001b[39;49my_train,\n\u001b[0;32m      <a href='vscode-notebook-cell:/g%3A/MTechClasses/Security%20and%20Application/Project/intru-detection-using-nlp/notebooks/idsnlp_dl_training.ipynb#X56sZmlsZQ%3D%3D?line=5'>6</a>\u001b[0m          epochs\u001b[39m=\u001b[39;49m\u001b[39m100\u001b[39;49m,\n\u001b[0;32m      <a href='vscode-notebook-cell:/g%3A/MTechClasses/Security%20and%20Application/Project/intru-detection-using-nlp/notebooks/idsnlp_dl_training.ipynb#X56sZmlsZQ%3D%3D?line=6'>7</a>\u001b[0m          validation_data\u001b[39m=\u001b[39;49m(padded_val, y_val), verbose\u001b[39m=\u001b[39;49m\u001b[39m1\u001b[39;49m,\n\u001b[0;32m      <a href='vscode-notebook-cell:/g%3A/MTechClasses/Security%20and%20Application/Project/intru-detection-using-nlp/notebooks/idsnlp_dl_training.ipynb#X56sZmlsZQ%3D%3D?line=7'>8</a>\u001b[0m          callbacks\u001b[39m=\u001b[39;49m[early_stop]\n\u001b[0;32m      <a href='vscode-notebook-cell:/g%3A/MTechClasses/Security%20and%20Application/Project/intru-detection-using-nlp/notebooks/idsnlp_dl_training.ipynb#X56sZmlsZQ%3D%3D?line=8'>9</a>\u001b[0m          )\n\u001b[0;32m     <a href='vscode-notebook-cell:/g%3A/MTechClasses/Security%20and%20Application/Project/intru-detection-using-nlp/notebooks/idsnlp_dl_training.ipynb#X56sZmlsZQ%3D%3D?line=9'>10</a>\u001b[0m plot_training_graph(history)\n",
      "File \u001b[1;32mc:\\Users\\debon\\AppData\\Local\\Programs\\Python\\Python310\\lib\\site-packages\\keras\\utils\\traceback_utils.py:65\u001b[0m, in \u001b[0;36mfilter_traceback.<locals>.error_handler\u001b[1;34m(*args, **kwargs)\u001b[0m\n\u001b[0;32m     63\u001b[0m filtered_tb \u001b[39m=\u001b[39m \u001b[39mNone\u001b[39;00m\n\u001b[0;32m     64\u001b[0m \u001b[39mtry\u001b[39;00m:\n\u001b[1;32m---> 65\u001b[0m     \u001b[39mreturn\u001b[39;00m fn(\u001b[39m*\u001b[39margs, \u001b[39m*\u001b[39m\u001b[39m*\u001b[39mkwargs)\n\u001b[0;32m     66\u001b[0m \u001b[39mexcept\u001b[39;00m \u001b[39mException\u001b[39;00m \u001b[39mas\u001b[39;00m e:\n\u001b[0;32m     67\u001b[0m     filtered_tb \u001b[39m=\u001b[39m _process_traceback_frames(e\u001b[39m.\u001b[39m__traceback__)\n",
      "File \u001b[1;32mc:\\Users\\debon\\AppData\\Local\\Programs\\Python\\Python310\\lib\\site-packages\\keras\\engine\\training.py:1650\u001b[0m, in \u001b[0;36mModel.fit\u001b[1;34m(self, x, y, batch_size, epochs, verbose, callbacks, validation_split, validation_data, shuffle, class_weight, sample_weight, initial_epoch, steps_per_epoch, validation_steps, validation_batch_size, validation_freq, max_queue_size, workers, use_multiprocessing)\u001b[0m\n\u001b[0;32m   1642\u001b[0m \u001b[39mwith\u001b[39;00m tf\u001b[39m.\u001b[39mprofiler\u001b[39m.\u001b[39mexperimental\u001b[39m.\u001b[39mTrace(\n\u001b[0;32m   1643\u001b[0m     \u001b[39m\"\u001b[39m\u001b[39mtrain\u001b[39m\u001b[39m\"\u001b[39m,\n\u001b[0;32m   1644\u001b[0m     epoch_num\u001b[39m=\u001b[39mepoch,\n\u001b[1;32m   (...)\u001b[0m\n\u001b[0;32m   1647\u001b[0m     _r\u001b[39m=\u001b[39m\u001b[39m1\u001b[39m,\n\u001b[0;32m   1648\u001b[0m ):\n\u001b[0;32m   1649\u001b[0m     callbacks\u001b[39m.\u001b[39mon_train_batch_begin(step)\n\u001b[1;32m-> 1650\u001b[0m     tmp_logs \u001b[39m=\u001b[39m \u001b[39mself\u001b[39;49m\u001b[39m.\u001b[39;49mtrain_function(iterator)\n\u001b[0;32m   1651\u001b[0m     \u001b[39mif\u001b[39;00m data_handler\u001b[39m.\u001b[39mshould_sync:\n\u001b[0;32m   1652\u001b[0m         context\u001b[39m.\u001b[39masync_wait()\n",
      "File \u001b[1;32mc:\\Users\\debon\\AppData\\Local\\Programs\\Python\\Python310\\lib\\site-packages\\tensorflow\\python\\util\\traceback_utils.py:150\u001b[0m, in \u001b[0;36mfilter_traceback.<locals>.error_handler\u001b[1;34m(*args, **kwargs)\u001b[0m\n\u001b[0;32m    148\u001b[0m filtered_tb \u001b[39m=\u001b[39m \u001b[39mNone\u001b[39;00m\n\u001b[0;32m    149\u001b[0m \u001b[39mtry\u001b[39;00m:\n\u001b[1;32m--> 150\u001b[0m   \u001b[39mreturn\u001b[39;00m fn(\u001b[39m*\u001b[39margs, \u001b[39m*\u001b[39m\u001b[39m*\u001b[39mkwargs)\n\u001b[0;32m    151\u001b[0m \u001b[39mexcept\u001b[39;00m \u001b[39mException\u001b[39;00m \u001b[39mas\u001b[39;00m e:\n\u001b[0;32m    152\u001b[0m   filtered_tb \u001b[39m=\u001b[39m _process_traceback_frames(e\u001b[39m.\u001b[39m__traceback__)\n",
      "File \u001b[1;32mc:\\Users\\debon\\AppData\\Local\\Programs\\Python\\Python310\\lib\\site-packages\\tensorflow\\python\\eager\\polymorphic_function\\polymorphic_function.py:880\u001b[0m, in \u001b[0;36mFunction.__call__\u001b[1;34m(self, *args, **kwds)\u001b[0m\n\u001b[0;32m    877\u001b[0m compiler \u001b[39m=\u001b[39m \u001b[39m\"\u001b[39m\u001b[39mxla\u001b[39m\u001b[39m\"\u001b[39m \u001b[39mif\u001b[39;00m \u001b[39mself\u001b[39m\u001b[39m.\u001b[39m_jit_compile \u001b[39melse\u001b[39;00m \u001b[39m\"\u001b[39m\u001b[39mnonXla\u001b[39m\u001b[39m\"\u001b[39m\n\u001b[0;32m    879\u001b[0m \u001b[39mwith\u001b[39;00m OptionalXlaContext(\u001b[39mself\u001b[39m\u001b[39m.\u001b[39m_jit_compile):\n\u001b[1;32m--> 880\u001b[0m   result \u001b[39m=\u001b[39m \u001b[39mself\u001b[39m\u001b[39m.\u001b[39m_call(\u001b[39m*\u001b[39margs, \u001b[39m*\u001b[39m\u001b[39m*\u001b[39mkwds)\n\u001b[0;32m    882\u001b[0m new_tracing_count \u001b[39m=\u001b[39m \u001b[39mself\u001b[39m\u001b[39m.\u001b[39mexperimental_get_tracing_count()\n\u001b[0;32m    883\u001b[0m without_tracing \u001b[39m=\u001b[39m (tracing_count \u001b[39m==\u001b[39m new_tracing_count)\n",
      "File \u001b[1;32mc:\\Users\\debon\\AppData\\Local\\Programs\\Python\\Python310\\lib\\site-packages\\tensorflow\\python\\eager\\polymorphic_function\\polymorphic_function.py:912\u001b[0m, in \u001b[0;36mFunction._call\u001b[1;34m(self, *args, **kwds)\u001b[0m\n\u001b[0;32m    909\u001b[0m   \u001b[39mself\u001b[39m\u001b[39m.\u001b[39m_lock\u001b[39m.\u001b[39mrelease()\n\u001b[0;32m    910\u001b[0m   \u001b[39m# In this case we have created variables on the first call, so we run the\u001b[39;00m\n\u001b[0;32m    911\u001b[0m   \u001b[39m# defunned version which is guaranteed to never create variables.\u001b[39;00m\n\u001b[1;32m--> 912\u001b[0m   \u001b[39mreturn\u001b[39;00m \u001b[39mself\u001b[39m\u001b[39m.\u001b[39m_no_variable_creation_fn(\u001b[39m*\u001b[39margs, \u001b[39m*\u001b[39m\u001b[39m*\u001b[39mkwds)  \u001b[39m# pylint: disable=not-callable\u001b[39;00m\n\u001b[0;32m    913\u001b[0m \u001b[39melif\u001b[39;00m \u001b[39mself\u001b[39m\u001b[39m.\u001b[39m_variable_creation_fn \u001b[39mis\u001b[39;00m \u001b[39mnot\u001b[39;00m \u001b[39mNone\u001b[39;00m:\n\u001b[0;32m    914\u001b[0m   \u001b[39m# Release the lock early so that multiple threads can perform the call\u001b[39;00m\n\u001b[0;32m    915\u001b[0m   \u001b[39m# in parallel.\u001b[39;00m\n\u001b[0;32m    916\u001b[0m   \u001b[39mself\u001b[39m\u001b[39m.\u001b[39m_lock\u001b[39m.\u001b[39mrelease()\n",
      "File \u001b[1;32mc:\\Users\\debon\\AppData\\Local\\Programs\\Python\\Python310\\lib\\site-packages\\tensorflow\\python\\eager\\polymorphic_function\\tracing_compiler.py:134\u001b[0m, in \u001b[0;36mTracingCompiler.__call__\u001b[1;34m(self, *args, **kwargs)\u001b[0m\n\u001b[0;32m    131\u001b[0m \u001b[39mwith\u001b[39;00m \u001b[39mself\u001b[39m\u001b[39m.\u001b[39m_lock:\n\u001b[0;32m    132\u001b[0m   (concrete_function,\n\u001b[0;32m    133\u001b[0m    filtered_flat_args) \u001b[39m=\u001b[39m \u001b[39mself\u001b[39m\u001b[39m.\u001b[39m_maybe_define_function(args, kwargs)\n\u001b[1;32m--> 134\u001b[0m \u001b[39mreturn\u001b[39;00m concrete_function\u001b[39m.\u001b[39;49m_call_flat(\n\u001b[0;32m    135\u001b[0m     filtered_flat_args, captured_inputs\u001b[39m=\u001b[39;49mconcrete_function\u001b[39m.\u001b[39;49mcaptured_inputs)\n",
      "File \u001b[1;32mc:\\Users\\debon\\AppData\\Local\\Programs\\Python\\Python310\\lib\\site-packages\\tensorflow\\python\\eager\\polymorphic_function\\monomorphic_function.py:1745\u001b[0m, in \u001b[0;36mConcreteFunction._call_flat\u001b[1;34m(self, args, captured_inputs, cancellation_manager)\u001b[0m\n\u001b[0;32m   1741\u001b[0m possible_gradient_type \u001b[39m=\u001b[39m gradients_util\u001b[39m.\u001b[39mPossibleTapeGradientTypes(args)\n\u001b[0;32m   1742\u001b[0m \u001b[39mif\u001b[39;00m (possible_gradient_type \u001b[39m==\u001b[39m gradients_util\u001b[39m.\u001b[39mPOSSIBLE_GRADIENT_TYPES_NONE\n\u001b[0;32m   1743\u001b[0m     \u001b[39mand\u001b[39;00m executing_eagerly):\n\u001b[0;32m   1744\u001b[0m   \u001b[39m# No tape is watching; skip to running the function.\u001b[39;00m\n\u001b[1;32m-> 1745\u001b[0m   \u001b[39mreturn\u001b[39;00m \u001b[39mself\u001b[39m\u001b[39m.\u001b[39m_build_call_outputs(\u001b[39mself\u001b[39;49m\u001b[39m.\u001b[39;49m_inference_function\u001b[39m.\u001b[39;49mcall(\n\u001b[0;32m   1746\u001b[0m       ctx, args, cancellation_manager\u001b[39m=\u001b[39;49mcancellation_manager))\n\u001b[0;32m   1747\u001b[0m forward_backward \u001b[39m=\u001b[39m \u001b[39mself\u001b[39m\u001b[39m.\u001b[39m_select_forward_and_backward_functions(\n\u001b[0;32m   1748\u001b[0m     args,\n\u001b[0;32m   1749\u001b[0m     possible_gradient_type,\n\u001b[0;32m   1750\u001b[0m     executing_eagerly)\n\u001b[0;32m   1751\u001b[0m forward_function, args_with_tangents \u001b[39m=\u001b[39m forward_backward\u001b[39m.\u001b[39mforward()\n",
      "File \u001b[1;32mc:\\Users\\debon\\AppData\\Local\\Programs\\Python\\Python310\\lib\\site-packages\\tensorflow\\python\\eager\\polymorphic_function\\monomorphic_function.py:378\u001b[0m, in \u001b[0;36m_EagerDefinedFunction.call\u001b[1;34m(self, ctx, args, cancellation_manager)\u001b[0m\n\u001b[0;32m    376\u001b[0m \u001b[39mwith\u001b[39;00m _InterpolateFunctionError(\u001b[39mself\u001b[39m):\n\u001b[0;32m    377\u001b[0m   \u001b[39mif\u001b[39;00m cancellation_manager \u001b[39mis\u001b[39;00m \u001b[39mNone\u001b[39;00m:\n\u001b[1;32m--> 378\u001b[0m     outputs \u001b[39m=\u001b[39m execute\u001b[39m.\u001b[39;49mexecute(\n\u001b[0;32m    379\u001b[0m         \u001b[39mstr\u001b[39;49m(\u001b[39mself\u001b[39;49m\u001b[39m.\u001b[39;49msignature\u001b[39m.\u001b[39;49mname),\n\u001b[0;32m    380\u001b[0m         num_outputs\u001b[39m=\u001b[39;49m\u001b[39mself\u001b[39;49m\u001b[39m.\u001b[39;49m_num_outputs,\n\u001b[0;32m    381\u001b[0m         inputs\u001b[39m=\u001b[39;49margs,\n\u001b[0;32m    382\u001b[0m         attrs\u001b[39m=\u001b[39;49mattrs,\n\u001b[0;32m    383\u001b[0m         ctx\u001b[39m=\u001b[39;49mctx)\n\u001b[0;32m    384\u001b[0m   \u001b[39melse\u001b[39;00m:\n\u001b[0;32m    385\u001b[0m     outputs \u001b[39m=\u001b[39m execute\u001b[39m.\u001b[39mexecute_with_cancellation(\n\u001b[0;32m    386\u001b[0m         \u001b[39mstr\u001b[39m(\u001b[39mself\u001b[39m\u001b[39m.\u001b[39msignature\u001b[39m.\u001b[39mname),\n\u001b[0;32m    387\u001b[0m         num_outputs\u001b[39m=\u001b[39m\u001b[39mself\u001b[39m\u001b[39m.\u001b[39m_num_outputs,\n\u001b[1;32m   (...)\u001b[0m\n\u001b[0;32m    390\u001b[0m         ctx\u001b[39m=\u001b[39mctx,\n\u001b[0;32m    391\u001b[0m         cancellation_manager\u001b[39m=\u001b[39mcancellation_manager)\n",
      "File \u001b[1;32mc:\\Users\\debon\\AppData\\Local\\Programs\\Python\\Python310\\lib\\site-packages\\tensorflow\\python\\eager\\execute.py:52\u001b[0m, in \u001b[0;36mquick_execute\u001b[1;34m(op_name, num_outputs, inputs, attrs, ctx, name)\u001b[0m\n\u001b[0;32m     50\u001b[0m \u001b[39mtry\u001b[39;00m:\n\u001b[0;32m     51\u001b[0m   ctx\u001b[39m.\u001b[39mensure_initialized()\n\u001b[1;32m---> 52\u001b[0m   tensors \u001b[39m=\u001b[39m pywrap_tfe\u001b[39m.\u001b[39;49mTFE_Py_Execute(ctx\u001b[39m.\u001b[39;49m_handle, device_name, op_name,\n\u001b[0;32m     53\u001b[0m                                       inputs, attrs, num_outputs)\n\u001b[0;32m     54\u001b[0m \u001b[39mexcept\u001b[39;00m core\u001b[39m.\u001b[39m_NotOkStatusException \u001b[39mas\u001b[39;00m e:\n\u001b[0;32m     55\u001b[0m   \u001b[39mif\u001b[39;00m name \u001b[39mis\u001b[39;00m \u001b[39mnot\u001b[39;00m \u001b[39mNone\u001b[39;00m:\n",
      "\u001b[1;31mKeyboardInterrupt\u001b[0m: "
     ]
    }
   ],
   "source": [
    "early_stop = EarlyStopping(\n",
    "    monitor='val_loss', mode='min', verbose=1, patience=10)\n",
    "\n",
    "# fit the model\n",
    "history = DoubleLSTMLayer64.fit(x=padded_train,\n",
    "                                y=y_train,\n",
    "                                epochs=100,\n",
    "                                validation_data=(padded_val, y_val), verbose=1,\n",
    "                                callbacks=[early_stop]\n",
    "                                )\n",
    "plot_training_graph(history)\n"
   ]
  },
  {
   "cell_type": "code",
   "execution_count": null,
   "metadata": {},
   "outputs": [],
   "source": [
    "preds_2_lstm_64 = (DoubleLSTMLayer64.predict(\n",
    "    padded_test) > 0.5).astype(\"int32\")\n"
   ]
  },
  {
   "cell_type": "code",
   "execution_count": null,
   "metadata": {},
   "outputs": [],
   "source": [
    "c_report(y_test, preds_2_lstm_64)\n"
   ]
  },
  {
   "cell_type": "code",
   "execution_count": null,
   "metadata": {},
   "outputs": [],
   "source": [
    "plot_confusion_matrix(y_test, preds_2_lstm_64)\n"
   ]
  },
  {
   "attachments": {},
   "cell_type": "markdown",
   "metadata": {},
   "source": [
    "4. Developing Deep neural networks:\n",
    "\n",
    "    d. 1-layer Bi-LSTM model\n"
   ]
  },
  {
   "cell_type": "code",
   "execution_count": null,
   "metadata": {},
   "outputs": [],
   "source": [
    "# define the model\n",
    "SingleBiLSTMModel = Sequential(name=\"SingleBiLSTMModel\")\n",
    "SingleBiLSTMModel.add(\n",
    "    Embedding(vocab_size, word_embed_dim, input_length=max_length))\n",
    "SingleBiLSTMModel.add(Bidirectional(\n",
    "    LSTM(64, dropout=0.2, return_sequences=False)))\n",
    "SingleBiLSTMModel.add(Dense(32, activation='relu'))\n",
    "SingleBiLSTMModel.add(keras.layers.Dropout(0.1))\n",
    "SingleBiLSTMModel.add(Dense(1, activation='relu'))\n",
    "\n",
    "\n",
    "opt = keras.optimizers.Adam(learning_rate=1e-5)\n",
    "\n",
    "# compile the model\n",
    "SingleBiLSTMModel.compile(\n",
    "    optimizer=opt, loss='binary_crossentropy', metrics=['accuracy'])\n",
    "\n",
    "# summarize the model\n",
    "print(SingleBiLSTMModel.summary())\n"
   ]
  },
  {
   "cell_type": "code",
   "execution_count": null,
   "metadata": {},
   "outputs": [],
   "source": [
    "early_stop = EarlyStopping(\n",
    "    monitor='val_loss', mode='min', verbose=1, patience=10)\n",
    "\n",
    "# fit the model\n",
    "history = SingleBiLSTMModel.fit(x=padded_train,\n",
    "                                y=y_train,\n",
    "                                epochs=100,\n",
    "                                validation_data=(padded_val, y_val), verbose=1,\n",
    "                                callbacks=[early_stop]\n",
    "                                )\n",
    "plot_training_graph(history)\n"
   ]
  },
  {
   "cell_type": "code",
   "execution_count": null,
   "metadata": {},
   "outputs": [
    {
     "name": "stdout",
     "output_type": "stream",
     "text": [
      "313/313 [==============================] - 7s 19ms/step\n"
     ]
    }
   ],
   "source": [
    "preds_bilstm_64 = (SingleBiLSTMModel.predict(\n",
    "    padded_test) > 0.5).astype(\"int32\")\n"
   ]
  },
  {
   "cell_type": "code",
   "execution_count": null,
   "metadata": {},
   "outputs": [],
   "source": [
    "c_report(y_test, preds_bilstm_64)\n"
   ]
  },
  {
   "cell_type": "code",
   "execution_count": null,
   "metadata": {},
   "outputs": [],
   "source": [
    "plot_confusion_matrix(y_test, preds_bilstm_64)\n"
   ]
  },
  {
   "attachments": {},
   "cell_type": "markdown",
   "metadata": {},
   "source": [
    "4. Developing Deep neural networks:\n",
    "\n",
    "    e. Use Google word2vec embeddings as input embedding to model in 4.d. [Compare the performance 4.e vs 4.d]\n"
   ]
  },
  {
   "cell_type": "code",
   "execution_count": null,
   "metadata": {},
   "outputs": [],
   "source": [
    "from gensim.models import Word2Vec\n",
    "\n",
    "# Creating Word2Vec training dataset.\n",
    "Word2vec_train_data = list(map(lambda x: x.split(), X_train))\n",
    "\n",
    "# Defining the model and training it.\n",
    "word2vec_model = Word2Vec(Word2vec_train_data,\n",
    "                          vector_size=word_embed_dim,\n",
    "                          workers=8,\n",
    "                          min_count=5)\n",
    "\n",
    "print(\"Vocabulary Length:\", len(word2vec_model.wv.key_to_index))\n"
   ]
  },
  {
   "cell_type": "code",
   "execution_count": null,
   "metadata": {},
   "outputs": [],
   "source": [
    "vocab_size = len(t.word_index) + 1\n",
    "embedding_matrix = np.zeros((vocab_size, word_embed_dim))\n",
    "\n",
    "for word, token in t.word_index.items():\n",
    "    if word2vec_model.wv.__contains__(word):\n",
    "        embedding_matrix[token] = word2vec_model.wv.__getitem__(word)\n",
    "\n",
    "print(\"Embedding Matrix Shape:\", embedding_matrix.shape)\n"
   ]
  },
  {
   "cell_type": "code",
   "execution_count": null,
   "metadata": {},
   "outputs": [],
   "source": [
    "#max_length = 64\n",
    "\n",
    "# define the model\n",
    "BiLSTMLayerWithWord2Vec = Sequential(name=\"BiLSTMLayerWithWord2Vec\")\n",
    "BiLSTMLayerWithWord2Vec.add(Embedding(vocab_size, word_embed_dim, input_length=max_length,\n",
    "                                      weights=[embedding_matrix], trainable=False))\n",
    "#BiLSTMLayerWithWord2Vec.add(Bidirectional(LSTM(128, dropout=0.3, return_sequences=True)))\n",
    "BiLSTMLayerWithWord2Vec.add(Bidirectional(\n",
    "    LSTM(64, dropout=0.2, return_sequences=False)))\n",
    "BiLSTMLayerWithWord2Vec.add(Dense(32, activation='relu'))\n",
    "BiLSTMLayerWithWord2Vec.add(Dropout(0.1))\n",
    "BiLSTMLayerWithWord2Vec.add(Dense(1, activation='relu'))\n",
    "\n",
    "\n",
    "opt = keras.optimizers.Adam(learning_rate=1e-5)\n",
    "\n",
    "# compile the model\n",
    "BiLSTMLayerWithWord2Vec.compile(\n",
    "    optimizer=opt, loss='binary_crossentropy', metrics=['accuracy'])\n",
    "\n",
    "# summarize the model\n",
    "print(BiLSTMLayerWithWord2Vec.summary())\n"
   ]
  },
  {
   "cell_type": "code",
   "execution_count": null,
   "metadata": {},
   "outputs": [],
   "source": [
    "early_stop = EarlyStopping(\n",
    "    monitor='val_loss', mode='min', verbose=1, patience=10)\n",
    "\n",
    "# fit the model\n",
    "history = BiLSTMLayerWithWord2Vec.fit(x=padded_train,\n",
    "                                      y=y_train,\n",
    "                                      epochs=100,\n",
    "                                      validation_data=(\n",
    "                                          padded_val, y_val), verbose=1,\n",
    "                                      callbacks=[early_stop]\n",
    "                                      )\n",
    "plot_training_graph(history)\n"
   ]
  },
  {
   "cell_type": "code",
   "execution_count": null,
   "metadata": {},
   "outputs": [
    {
     "name": "stdout",
     "output_type": "stream",
     "text": [
      "313/313 [==============================] - 10s 32ms/step\n"
     ]
    }
   ],
   "source": [
    "preds_bilstm_64_w2v = (BiLSTMLayerWithWord2Vec.predict(\n",
    "    padded_test) > 0.5).astype(\"int32\")\n"
   ]
  },
  {
   "cell_type": "code",
   "execution_count": null,
   "metadata": {},
   "outputs": [],
   "source": [
    "c_report(y_test, preds_bilstm_64_w2v)\n",
    "plot_confusion_matrix(y_test, preds_bilstm_64_w2v)\n"
   ]
  },
  {
   "attachments": {},
   "cell_type": "markdown",
   "metadata": {},
   "source": [
    "#### 4.f. Use Glove embeddings as input embedding to model in 4.d. [Compare the performance performance 4.f vs 4.d]"
   ]
  },
  {
   "cell_type": "code",
   "execution_count": null,
   "metadata": {},
   "outputs": [
    {
     "name": "stdout",
     "output_type": "stream",
     "text": [
      "Loaded 400000 word vectors.\n"
     ]
    }
   ],
   "source": [
    "embeddings_index = dict()\n",
    "#f = open('glove.6B.50d.txt')\n",
    "embeddings_index = {}\n",
    "with open('./downloads/glove.6B/glove.6B.100d.txt', encoding='utf8') as f:\n",
    "    for line in f:\n",
    "        values = line.split()\n",
    "        word = values[0]\n",
    "        coefs = np.asarray(values[1:], dtype='float32')\n",
    "        embeddings_index[word] = coefs\n",
    "\n",
    "print('Loaded %s word vectors.' % len(embeddings_index))\n"
   ]
  },
  {
   "cell_type": "code",
   "execution_count": null,
   "metadata": {},
   "outputs": [],
   "source": [
    "# create a weight matrix for words in training docs\n",
    "embedding_matrix = np.zeros((vocab_size, word_embed_dim))\n",
    "for word, index in t.word_index.items():\n",
    "    if index > vocab_size - 1:\n",
    "        break\n",
    "    else:\n",
    "        embedding_vector = embeddings_index.get(word)\n",
    "        if embedding_vector is not None:\n",
    "            embedding_matrix[index] = embedding_vector\n"
   ]
  },
  {
   "cell_type": "code",
   "execution_count": null,
   "metadata": {},
   "outputs": [],
   "source": [
    "#max_length = 64\n",
    "\n",
    "# define the model\n",
    "BiLSTMLayerWithGloVe = Sequential(name=\"BiLSTMLayerWithGloVe\")\n",
    "BiLSTMLayerWithGloVe.add(Embedding(vocab_size, word_embed_dim, input_length=max_length,\n",
    "                                   weights=[embedding_matrix], trainable=False))\n",
    "#BiLSTMLayerWithWord2Vec.add(Bidirectional(LSTM(128, dropout=0.3, return_sequences=True)))\n",
    "BiLSTMLayerWithGloVe.add(Bidirectional(\n",
    "    LSTM(64, dropout=0.2, return_sequences=False)))\n",
    "BiLSTMLayerWithGloVe.add(Dense(32, activation='relu'))\n",
    "BiLSTMLayerWithGloVe.add(Dropout(0.1))\n",
    "BiLSTMLayerWithGloVe.add(Dense(1, activation='relu'))\n",
    "\n",
    "\n",
    "opt = keras.optimizers.Adam(learning_rate=1e-5)\n",
    "\n",
    "# compile the model\n",
    "BiLSTMLayerWithGloVe.compile(\n",
    "    optimizer=opt, loss='binary_crossentropy', metrics=['accuracy'])\n",
    "\n",
    "# summarize the model\n",
    "print(BiLSTMLayerWithGloVe.summary())\n"
   ]
  },
  {
   "cell_type": "code",
   "execution_count": null,
   "metadata": {},
   "outputs": [],
   "source": [
    "early_stop = EarlyStopping(\n",
    "    monitor='val_loss', mode='min', verbose=1, patience=10)\n",
    "\n",
    "# fit the model\n",
    "history = BiLSTMLayerWithGloVe.fit(x=padded_train,\n",
    "                                   y=y_train,\n",
    "                                   epochs=100,\n",
    "                                   validation_data=(\n",
    "                                       padded_val, y_val), verbose=1,\n",
    "                                   callbacks=[early_stop]\n",
    "                                   )\n",
    "plot_training_graph(history)\n"
   ]
  },
  {
   "cell_type": "code",
   "execution_count": null,
   "metadata": {},
   "outputs": [
    {
     "name": "stdout",
     "output_type": "stream",
     "text": [
      "313/313 [==============================] - 8s 23ms/step\n"
     ]
    }
   ],
   "source": [
    "preds_bilstm_64_glove = (BiLSTMLayerWithGloVe.predict(\n",
    "    padded_test) > 0.5).astype(\"int32\")\n"
   ]
  },
  {
   "cell_type": "code",
   "execution_count": null,
   "metadata": {},
   "outputs": [],
   "source": [
    "c_report(y_test, preds_bilstm_64_glove)\n",
    "plot_confusion_matrix(y_test, preds_bilstm_64_glove)\n"
   ]
  },
  {
   "cell_type": "code",
   "execution_count": null,
   "metadata": {},
   "outputs": [
    {
     "data": {
      "text/html": [
       "        <script type=\"text/javascript\">\n",
       "        window.PlotlyConfig = {MathJaxConfig: 'local'};\n",
       "        if (window.MathJax && window.MathJax.Hub && window.MathJax.Hub.Config) {window.MathJax.Hub.Config({SVG: {font: \"STIX-Web\"}});}\n",
       "        if (typeof require !== 'undefined') {\n",
       "        require.undef(\"plotly\");\n",
       "        requirejs.config({\n",
       "            paths: {\n",
       "                'plotly': ['https://cdn.plot.ly/plotly-2.18.2.min']\n",
       "            }\n",
       "        });\n",
       "        require(['plotly'], function(Plotly) {\n",
       "            window._Plotly = Plotly;\n",
       "        });\n",
       "        }\n",
       "        </script>\n",
       "        "
      ]
     },
     "metadata": {},
     "output_type": "display_data"
    }
   ],
   "source": [
    "\n",
    "# Plotly\n",
    "from sklearn.manifold import TSNE\n",
    "from nltk.corpus import stopwords\n",
    "import pandas as pd\n",
    "import numpy as np\n",
    "import string\n",
    "import nltk\n",
    "import plotly.offline as py\n",
    "import plotly.graph_objs as go\n",
    "py.init_notebook_mode(connected=True)\n",
    "# Others\n"
   ]
  },
  {
   "cell_type": "code",
   "execution_count": null,
   "metadata": {},
   "outputs": [],
   "source": [
    "word_list = []\n",
    "for word, i in t.word_index.items():\n",
    "    word_list.append(word)\n"
   ]
  },
  {
   "cell_type": "code",
   "execution_count": null,
   "metadata": {},
   "outputs": [],
   "source": [
    "def plot_words(data, start, stop, step):\n",
    "    trace = go.Scatter(\n",
    "        x=data[start:stop:step, 0],\n",
    "        y=data[start:stop:step, 1],\n",
    "        mode='markers',\n",
    "        text=word_list[start:stop:step]\n",
    "    )\n",
    "    layout = dict(title='glove.50 vs IMDB',\n",
    "                  yaxis=dict(title='glove.50'),\n",
    "                  xaxis=dict(title='IMDB'),\n",
    "                  hovermode='closest')\n",
    "    fig = dict(data=[trace], layout=layout)\n",
    "    py.iplot(fig)\n"
   ]
  },
  {
   "cell_type": "code",
   "execution_count": null,
   "metadata": {},
   "outputs": [],
   "source": [
    "glove_emds = BiLSTMLayerWithGloVe.layers[0].get_weights()[0]\n"
   ]
  },
  {
   "cell_type": "code",
   "execution_count": null,
   "metadata": {},
   "outputs": [],
   "source": [
    "glove_tsne_embds = TSNE(n_components=2, learning_rate='auto',\n",
    "                        init='pca').fit_transform(glove_emds)\n"
   ]
  },
  {
   "cell_type": "code",
   "execution_count": null,
   "metadata": {},
   "outputs": [],
   "source": [
    "number_of_words = 2000\n",
    "plot_words(glove_tsne_embds, 0, number_of_words, 1)\n"
   ]
  }
 ],
 "metadata": {
  "kernelspec": {
   "display_name": "Python 3",
   "language": "python",
   "name": "python3"
  },
  "language_info": {
   "codemirror_mode": {
    "name": "ipython",
    "version": 3
   },
   "file_extension": ".py",
   "mimetype": "text/x-python",
   "name": "python",
   "nbconvert_exporter": "python",
   "pygments_lexer": "ipython3",
   "version": "3.10.7"
  },
  "orig_nbformat": 4,
  "vscode": {
   "interpreter": {
    "hash": "c4ae7141c631147330982ab03a122191846cf83f5ea8efac7ef9984176873ce7"
   }
  }
 },
 "nbformat": 4,
 "nbformat_minor": 2
}
